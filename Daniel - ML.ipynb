{
 "cells": [
  {
   "cell_type": "code",
   "execution_count": 150,
   "metadata": {},
   "outputs": [],
   "source": [
    "import seaborn as sns\n",
    "import numpy as np\n",
    "import pandas as pd\n",
    "import warnings\n",
    "from matplotlib import pyplot as plt\n",
    "from sklearn.linear_model import LinearRegression, LogisticRegression, Ridge, Lasso, ElasticNet\n",
    "from sklearn.model_selection import GridSearchCV, train_test_split\n",
    "from sklearn.preprocessing import StandardScaler\n",
    "\n",
    "warnings.filterwarnings('ignore')\n",
    "sns.set(rc = {'figure.figsize':(15, 7)})\n",
    "sns.set_style('white')\n",
    "pd.set_option('display.max_columns', 500)"
   ]
  },
  {
   "cell_type": "markdown",
   "metadata": {},
   "source": [
    "# ML"
   ]
  },
  {
   "cell_type": "code",
   "execution_count": 151,
   "metadata": {},
   "outputs": [],
   "source": [
    "lm = LinearRegression()\n",
    "logis = LogisticRegression()\n",
    "lasso = Lasso(normalize=True)\n",
    "ridge = Ridge()\n",
    "enet = ElasticNet()"
   ]
  },
  {
   "cell_type": "code",
   "execution_count": 152,
   "metadata": {},
   "outputs": [],
   "source": [
    "features = pd.read_csv('./data/features_dummified_219col.csv') # 2580 x 221\n",
    "target = pd.read_csv('./data/Ames_Housing_Price_Data.csv')['SalePrice']\n",
    "\n",
    "features2 = pd.read_csv('./data/features_dummified_376col.csv') # 2558 x 377\n",
    "target2 = pd.read_csv('./data/target_376col.csv')['SalePrice']"
   ]
  },
  {
   "cell_type": "code",
   "execution_count": 365,
   "metadata": {},
   "outputs": [
    {
     "data": {
      "text/plain": [
       "False"
      ]
     },
     "execution_count": 365,
     "metadata": {},
     "output_type": "execute_result"
    }
   ],
   "source": [
    "a = 'hi'\n",
    "\n",
    "a in ['hi_mynameisdaniel']"
   ]
  },
  {
   "cell_type": "code",
   "execution_count": 364,
   "metadata": {},
   "outputs": [
    {
     "name": "stdout",
     "output_type": "stream",
     "text": [
      "LotShape\n",
      "LandSlope\n",
      "OverallQual\n",
      "OverallCond\n",
      "ExterQual\n",
      "ExterCond\n",
      "BsmtQual\n",
      "BsmtCond\n",
      "BsmtExposure\n",
      "BsmtFinType1\n",
      "BsmtFinType2\n",
      "HeatingQC\n",
      "BsmtFullBath\n",
      "BsmtHalfBath\n",
      "FullBath\n",
      "HalfBath\n",
      "BedroomAbvGr\n",
      "KitchenAbvGr\n",
      "KitchenQual\n",
      "TotRmsAbvGrd\n",
      "Functional\n",
      "Fireplaces\n",
      "FireplaceQu\n",
      "GarageFinish\n",
      "GarageCars\n",
      "GarageQual\n",
      "GarageCond\n",
      "PavedDrive\n",
      "PoolQC\n",
      "Fence\n",
      "GrLivArea\n",
      "LotFrontage\n",
      "LotArea\n",
      "MasVnrArea\n",
      "BsmtFinSF1\n",
      "BsmtFinSF2\n",
      "BsmtUnfSF\n",
      "TotalBsmtSF\n",
      "1stFlrSF\n",
      "2ndFlrSF\n",
      "GarageArea\n",
      "WoodDeckSF\n",
      "OpenPorchSF\n",
      "EnclosedPorch\n",
      "3SsnPorch\n",
      "ScreenPorch\n",
      "PoolArea\n",
      "MoSold\n",
      "MSSubClass_30\n",
      "MSSubClass_40\n",
      "MSSubClass_45\n",
      "MSSubClass_50\n",
      "MSSubClass_60\n",
      "MSSubClass_70\n",
      "MSSubClass_75\n",
      "MSSubClass_80\n",
      "MSSubClass_85\n",
      "MSSubClass_90\n",
      "MSSubClass_120\n",
      "MSSubClass_150\n",
      "MSSubClass_160\n",
      "MSSubClass_180\n",
      "MSSubClass_190\n",
      "MSZoning_A (agr)\n",
      "MSZoning_C (all)\n",
      "MSZoning_FV\n",
      "MSZoning_I (all)\n",
      "MSZoning_RH\n",
      "MSZoning_RM\n",
      "Street_Grvl\n",
      "Alley_Grvl\n",
      "Alley_Pave\n",
      "LandContour_Bnk\n",
      "LandContour_HLS\n",
      "LandContour_Low\n",
      "Utilities_NoSewr\n",
      "LotConfig_Corner\n",
      "LotConfig_CulDSac\n",
      "LotConfig_FR2\n",
      "LotConfig_FR3\n",
      "Neighborhood_Blmngtn\n",
      "Neighborhood_Blueste\n",
      "Neighborhood_BrDale\n",
      "Neighborhood_BrkSide\n",
      "Neighborhood_ClearCr\n",
      "Neighborhood_CollgCr\n",
      "Neighborhood_Crawfor\n",
      "Neighborhood_Edwards\n",
      "Neighborhood_Gilbert\n",
      "Neighborhood_Greens\n",
      "Neighborhood_GrnHill\n",
      "Neighborhood_IDOTRR\n",
      "Neighborhood_Landmrk\n",
      "Neighborhood_MeadowV\n",
      "Neighborhood_Mitchel\n",
      "Neighborhood_NPkVill\n",
      "Neighborhood_NWAmes\n",
      "Neighborhood_NoRidge\n",
      "Neighborhood_NridgHt\n",
      "Neighborhood_OldTown\n",
      "Neighborhood_SWISU\n",
      "Neighborhood_Sawyer\n",
      "Neighborhood_SawyerW\n",
      "Neighborhood_Somerst\n",
      "Neighborhood_StoneBr\n",
      "Neighborhood_Timber\n",
      "Neighborhood_Veenker\n",
      "Condition1_Artery\n",
      "Condition1_Feedr\n",
      "Condition1_PosA\n",
      "Condition1_PosN\n",
      "Condition1_RRAe\n",
      "Condition1_RRAn\n",
      "Condition1_RRNe\n",
      "Condition1_RRNn\n",
      "Condition2_Artery\n",
      "Condition2_Feedr\n",
      "Condition2_PosA\n",
      "Condition2_PosN\n",
      "Condition2_RRAe\n",
      "Condition2_RRAn\n",
      "Condition2_RRNn\n",
      "BldgType_2fmCon\n",
      "BldgType_Duplex\n",
      "BldgType_Twnhs\n",
      "BldgType_TwnhsE\n",
      "HouseStyle_1.5Fin\n",
      "HouseStyle_1.5Unf\n",
      "HouseStyle_2.5Fin\n",
      "HouseStyle_2.5Unf\n",
      "HouseStyle_2Story\n",
      "HouseStyle_SFoyer\n",
      "HouseStyle_SLvl\n",
      "RoofStyle_Flat\n",
      "RoofStyle_Gambrel\n",
      "RoofStyle_Hip\n",
      "RoofStyle_Mansard\n",
      "RoofStyle_Shed\n",
      "RoofMatl_Membran\n",
      "RoofMatl_Metal\n",
      "RoofMatl_Roll\n",
      "RoofMatl_Tar&Grv\n",
      "RoofMatl_WdShake\n",
      "RoofMatl_WdShngl\n",
      "Exterior1st_AsbShng\n",
      "Exterior1st_AsphShn\n",
      "Exterior1st_BrkComm\n",
      "Exterior1st_BrkFace\n",
      "Exterior1st_CBlock\n",
      "Exterior1st_CemntBd\n",
      "Exterior1st_HdBoard\n",
      "Exterior1st_ImStucc\n",
      "Exterior1st_MetalSd\n",
      "Exterior1st_Plywood\n",
      "Exterior1st_PreCast\n",
      "Exterior1st_Stucco\n",
      "Exterior1st_Wd Sdng\n",
      "Exterior1st_WdShing\n",
      "Exterior2nd_AsbShng\n",
      "Exterior2nd_AsphShn\n",
      "Exterior2nd_Brk Cmn\n",
      "Exterior2nd_BrkFace\n",
      "Exterior2nd_CBlock\n",
      "Exterior2nd_CmentBd\n",
      "Exterior2nd_HdBoard\n",
      "Exterior2nd_ImStucc\n",
      "Exterior2nd_MetalSd\n",
      "Exterior2nd_Plywood\n",
      "Exterior2nd_PreCast\n",
      "Exterior2nd_Stone\n",
      "Exterior2nd_Stucco\n",
      "Exterior2nd_Wd Sdng\n",
      "Exterior2nd_Wd Shng\n",
      "MasVnrType_BrkCmn\n",
      "MasVnrType_BrkFace\n",
      "MasVnrType_Stone\n",
      "Foundation_BrkTil\n",
      "Foundation_PConc\n",
      "Foundation_Slab\n",
      "Foundation_Stone\n",
      "Foundation_Wood\n",
      "Heating_Floor\n",
      "Heating_GasW\n",
      "Heating_Grav\n",
      "Heating_OthW\n",
      "Heating_Wall\n",
      "CentralAir_N\n",
      "Electrical_FuseA\n",
      "Electrical_FuseF\n",
      "Electrical_FuseP\n",
      "GarageType_2Types\n",
      "GarageType_Basment\n",
      "GarageType_BuiltIn\n",
      "GarageType_CarPort\n",
      "GarageType_Detchd\n",
      "GarageType_NoGarage\n",
      "MiscFeature_Gar2\n",
      "MiscFeature_Othr\n",
      "MiscFeature_Shed\n",
      "MiscFeature_TenC\n",
      "SaleType_COD\n",
      "SaleType_CWD\n",
      "SaleType_Con\n",
      "SaleType_ConLD\n",
      "SaleType_ConLI\n",
      "SaleType_ConLw\n",
      "SaleType_New\n",
      "SaleType_Oth\n",
      "SaleType_VWD\n",
      "SaleCondition_Abnorml\n",
      "SaleCondition_AdjLand\n",
      "SaleCondition_Alloca\n",
      "SaleCondition_Family\n",
      "SaleCondition_Partial\n",
      "CrimeRate\n",
      "SchoolQuality\n",
      "HomeAge\n",
      "GarageAge\n",
      "LastRemod\n"
     ]
    }
   ],
   "source": [
    "# first, lets check collinearity\n",
    "\n",
    "# we've identified in preprocessing the columns with multicollinearity:\n",
    "# Correlations:\n",
    "    # - GrLivArea & TotRmsAbvGr: 0.81\n",
    "    # - PoolArea & PoolQC: 0.77\n",
    "    # - GarageQual & GarageCond: 0.94\n",
    "    # - GarageCond & GarageCars: 0.92\n",
    "    # - GarageQual & GarageCars: 0.93\n",
    "    # - Fireplaces & FireplacesQual: 0.85\n",
    "    # - TotalBsmtSF & 1stFlrSF: 0.78\n",
    "    # - BsmtFinType2 & BsmtFinSF2: 0.80\n",
    "    # - BsmtFinType1 & BsmtFinSF1: 0.72\n",
    "    # - GaragesYrBlt & YearBuilt: 1.0\n",
    "    \n",
    "#of these, we can only keep one of the columns\n",
    "\n",
    "features = []\n",
    "for feat in features.columns:\n",
    "    if feat in ['TotRmsAbvGrd', ]"
   ]
  },
  {
   "cell_type": "code",
   "execution_count": 322,
   "metadata": {},
   "outputs": [
    {
     "data": {
      "text/plain": [
       "{'alpha': 1.0000230261160268, 'normalize': False}"
      ]
     },
     "execution_count": 322,
     "metadata": {},
     "output_type": "execute_result"
    }
   ],
   "source": [
    "ans.best_params_"
   ]
  },
  {
   "cell_type": "code",
   "execution_count": 325,
   "metadata": {},
   "outputs": [
    {
     "data": {
      "text/plain": [
       "0.8810521181997798"
      ]
     },
     "execution_count": 325,
     "metadata": {},
     "output_type": "execute_result"
    }
   ],
   "source": [
    "ans.best_score_"
   ]
  },
  {
   "cell_type": "code",
   "execution_count": 338,
   "metadata": {},
   "outputs": [
    {
     "data": {
      "text/html": [
       "<div>\n",
       "<style scoped>\n",
       "    .dataframe tbody tr th:only-of-type {\n",
       "        vertical-align: middle;\n",
       "    }\n",
       "\n",
       "    .dataframe tbody tr th {\n",
       "        vertical-align: top;\n",
       "    }\n",
       "\n",
       "    .dataframe thead th {\n",
       "        text-align: right;\n",
       "    }\n",
       "</style>\n",
       "<table border=\"1\" class=\"dataframe\">\n",
       "  <thead>\n",
       "    <tr style=\"text-align: right;\">\n",
       "      <th></th>\n",
       "      <th>model</th>\n",
       "      <th>R2</th>\n",
       "      <th>CV</th>\n",
       "      <th>hyperparameters</th>\n",
       "    </tr>\n",
       "  </thead>\n",
       "  <tbody>\n",
       "    <tr>\n",
       "      <th>0</th>\n",
       "      <td>lasso</td>\n",
       "      <td>0.934</td>\n",
       "      <td>10</td>\n",
       "      <td>alpha: 11.29, normalize=True</td>\n",
       "    </tr>\n",
       "    <tr>\n",
       "      <th>1</th>\n",
       "      <td>ridge</td>\n",
       "      <td>0.914</td>\n",
       "      <td>10</td>\n",
       "      <td>alpha: 16.84, normalize=False</td>\n",
       "    </tr>\n",
       "    <tr>\n",
       "      <th>2</th>\n",
       "      <td>elastic net</td>\n",
       "      <td>0.881</td>\n",
       "      <td>10</td>\n",
       "      <td>alpha: 1.00, normalize=False</td>\n",
       "    </tr>\n",
       "  </tbody>\n",
       "</table>\n",
       "</div>"
      ],
      "text/plain": [
       "         model     R2  CV                hyperparameters\n",
       "0        lasso  0.934  10   alpha: 11.29, normalize=True\n",
       "1        ridge  0.914  10  alpha: 16.84, normalize=False\n",
       "2  elastic net  0.881  10   alpha: 1.00, normalize=False"
      ]
     },
     "execution_count": 338,
     "metadata": {},
     "output_type": "execute_result"
    }
   ],
   "source": [
    "pd.DataFrame({'model': ['lasso', 'ridge', 'elastic net'],\n",
    "              'R2': [0.934, 0.914, 0.881], \n",
    "              'CV': [10, 10, 10],\n",
    "              'hyperparameters': ['alpha: 11.29, normalize=True', \n",
    "                                  'alpha: 16.84, normalize=False',\n",
    "                                  'alpha: 1.00, normalize=False']\n",
    "            \n",
    "            \n",
    "             })"
   ]
  },
  {
   "cell_type": "markdown",
   "metadata": {},
   "source": [
    "### Lasso: Feature Selection"
   ]
  },
  {
   "cell_type": "code",
   "execution_count": 355,
   "metadata": {},
   "outputs": [
    {
     "name": "stdout",
     "output_type": "stream",
     "text": [
      "features: 63, alpha: 127.43012386851292, train score: 0.9058142550360527,  test score: 0.9143701474642622\n"
     ]
    }
   ],
   "source": [
    "# grid search with lasso, 219 col\n",
    "X_train, X_test, Y_train, Y_test = train_test_split(features, target)\n",
    "\n",
    "paramDict = {'alpha': np.logspace(1e-5, 20, 20), \n",
    "             'normalize': [True, False]}\n",
    "grid = GridSearchCV(lasso, param_grid=paramDict, cv=10, return_train_score = True)\n",
    "ans = grid.fit(X_train, Y_train)\n",
    "\n",
    "lasso = ans.best_estimator_\n",
    "lasso.fit(X_train, Y_train)\n",
    "\n",
    "coefs = {}\n",
    "\n",
    "for idx, coef in enumerate(lasso.coef_):\n",
    "    if coef == 0:\n",
    "        continue\n",
    "    else:\n",
    "        coefs[features.columns[idx]] = coef\n",
    "\n",
    "sig_coefs = [feature[:feature.find('_')] if '_' in feature \n",
    "             else feature for feature in coefs.keys()]\n",
    "\n",
    "print(f'features: {len(set(sig_coefs))}, alpha: {lasso.alpha},\\\n",
    " train score: {lasso.score(X_train, Y_train)}, \\\n",
    " test score: {lasso.score(X_test, Y_test)}')\n",
    "\n",
    "# print(coefs.keys())"
   ]
  },
  {
   "cell_type": "code",
   "execution_count": 335,
   "metadata": {},
   "outputs": [
    {
     "name": "stdout",
     "output_type": "stream",
     "text": [
      "features: 63, alpha: 127.43012386851292, score: 0.9335109675996909\n"
     ]
    }
   ],
   "source": [
    "# grid search with lasso, 377 col\n",
    "\n",
    "X_train, X_test, Y_train, Y_test = train_test_split(features2, target2)\n",
    "\n",
    "paramDict = {'alpha': np.logspace(1e-5, 20, 20),\n",
    "             'normalize': [True, False]}\n",
    "grid = GridSearchCV(lasso, param_grid=paramDict, cv=10, return_train_score = True)\n",
    "ans = grid.fit(X_train, Y_train)\n",
    "\n",
    "lasso = ans.best_estimator_\n",
    "lasso.fit(X_train, Y_train)\n",
    "coefs = {}\n",
    "\n",
    "for idx, coef in enumerate(lasso.coef_):\n",
    "    if coef == 0:\n",
    "        continue\n",
    "    else:\n",
    "        coefs[features2.columns[idx]] = coef\n",
    "\n",
    "sig_coefs = [feature[:feature.find('_')] if '_' in feature \n",
    "             else feature for feature in coefs.keys()]\n",
    "\n",
    "print(f'features: {len(set(sig_coefs))}, alpha: {lasso.alpha},\\\n",
    " score: {lasso.score(X_test, Y_test)}')"
   ]
  },
  {
   "cell_type": "code",
   "execution_count": 192,
   "metadata": {},
   "outputs": [
    {
     "data": {
      "text/plain": [
       "{'BsmtExposure_Gd': 7236.958703680132,\n",
       " 'ExterQual_TA': -2738.881337578746,\n",
       " 'Foundation_PConc': 83.7350566769327,\n",
       " 'KitchenQual_TA': -2748.1083108543544,\n",
       " 'MSZoning_RM': -1493.5338443648652,\n",
       " 'Neighborhood_NoRidge': 12583.523586349158,\n",
       " 'ZngCdPr_FS-RL': 20465.461306894063,\n",
       " 'BsmtFinSF1': 17.115680345400868,\n",
       " 'Fireplaces': 4172.901833472655,\n",
       " 'FrstFlrSF': 4.482458415439719,\n",
       " 'GarageArea': 28.389153758143966,\n",
       " 'GrLivArea': 42.79634721505476,\n",
       " 'LotArea': 0.16566145395676632,\n",
       " 'MasVnrArea': 7.621138517284423,\n",
       " 'OverallQual': 16312.885832220816,\n",
       " 'TotalBsmtSF': 18.188941342013276,\n",
       " 'HomeAge': -59.573430568726046,\n",
       " 'LastRemod': -157.5819288916749}"
      ]
     },
     "execution_count": 192,
     "metadata": {},
     "output_type": "execute_result"
    }
   ],
   "source": [
    "coefs"
   ]
  },
  {
   "cell_type": "code",
   "execution_count": 205,
   "metadata": {},
   "outputs": [
    {
     "data": {
      "text/plain": [
       "<AxesSubplot:xlabel='SalePrice'>"
      ]
     },
     "execution_count": 205,
     "metadata": {},
     "output_type": "execute_result"
    },
    {
     "data": {
      "image/png": "[encoded data removed]",
      "text/plain": [
       "<Figure size 1080x504 with 1 Axes>"
      ]
     },
     "metadata": {},
     "output_type": "display_data"
    }
   ],
   "source": [
    "sns.scatterplot(Y_train, lasso.predict(X_train), label='training data')\n",
    "sns.scatterplot(Y_test, lasso.predict(X_test), label='testing data')"
   ]
  },
  {
   "cell_type": "code",
   "execution_count": 219,
   "metadata": {},
   "outputs": [
    {
     "data": {
      "text/html": [
       "<div>\n",
       "<style scoped>\n",
       "    .dataframe tbody tr th:only-of-type {\n",
       "        vertical-align: middle;\n",
       "    }\n",
       "\n",
       "    .dataframe tbody tr th {\n",
       "        vertical-align: top;\n",
       "    }\n",
       "\n",
       "    .dataframe thead th {\n",
       "        text-align: right;\n",
       "    }\n",
       "</style>\n",
       "<table border=\"1\" class=\"dataframe\">\n",
       "  <thead>\n",
       "    <tr style=\"text-align: right;\">\n",
       "      <th></th>\n",
       "      <th>OverallQual</th>\n",
       "      <th>ExterQual</th>\n",
       "      <th>BsmtQual</th>\n",
       "      <th>BsmtExposure</th>\n",
       "      <th>KitchenQual</th>\n",
       "      <th>Fireplaces</th>\n",
       "      <th>FireplaceQu</th>\n",
       "      <th>GarageFinish</th>\n",
       "      <th>GrLivArea</th>\n",
       "      <th>LotArea</th>\n",
       "      <th>MasVnrArea</th>\n",
       "      <th>BsmtFinSF1</th>\n",
       "      <th>TotalBsmtSF</th>\n",
       "      <th>1stFlrSF</th>\n",
       "      <th>GarageArea</th>\n",
       "      <th>Neighborhood_NridgHt</th>\n",
       "      <th>Foundation_PConc</th>\n",
       "      <th>SaleCondition_Partial</th>\n",
       "      <th>CrimeRate</th>\n",
       "      <th>HomeAge</th>\n",
       "      <th>LastRemod</th>\n",
       "    </tr>\n",
       "  </thead>\n",
       "  <tbody>\n",
       "    <tr>\n",
       "      <th>0</th>\n",
       "      <td>6</td>\n",
       "      <td>2</td>\n",
       "      <td>3</td>\n",
       "      <td>1</td>\n",
       "      <td>3</td>\n",
       "      <td>1</td>\n",
       "      <td>4</td>\n",
       "      <td>1</td>\n",
       "      <td>856</td>\n",
       "      <td>7890</td>\n",
       "      <td>0.0</td>\n",
       "      <td>238.0</td>\n",
       "      <td>856.0</td>\n",
       "      <td>856</td>\n",
       "      <td>399.0</td>\n",
       "      <td>0</td>\n",
       "      <td>0</td>\n",
       "      <td>0</td>\n",
       "      <td>5</td>\n",
       "      <td>71</td>\n",
       "      <td>60</td>\n",
       "    </tr>\n",
       "    <tr>\n",
       "      <th>1</th>\n",
       "      <td>5</td>\n",
       "      <td>3</td>\n",
       "      <td>4</td>\n",
       "      <td>2</td>\n",
       "      <td>4</td>\n",
       "      <td>0</td>\n",
       "      <td>0</td>\n",
       "      <td>3</td>\n",
       "      <td>1049</td>\n",
       "      <td>4235</td>\n",
       "      <td>149.0</td>\n",
       "      <td>552.0</td>\n",
       "      <td>1049.0</td>\n",
       "      <td>1049</td>\n",
       "      <td>266.0</td>\n",
       "      <td>0</td>\n",
       "      <td>0</td>\n",
       "      <td>0</td>\n",
       "      <td>1</td>\n",
       "      <td>25</td>\n",
       "      <td>25</td>\n",
       "    </tr>\n",
       "    <tr>\n",
       "      <th>2</th>\n",
       "      <td>5</td>\n",
       "      <td>3</td>\n",
       "      <td>3</td>\n",
       "      <td>1</td>\n",
       "      <td>4</td>\n",
       "      <td>0</td>\n",
       "      <td>0</td>\n",
       "      <td>1</td>\n",
       "      <td>1001</td>\n",
       "      <td>6060</td>\n",
       "      <td>0.0</td>\n",
       "      <td>737.0</td>\n",
       "      <td>837.0</td>\n",
       "      <td>1001</td>\n",
       "      <td>216.0</td>\n",
       "      <td>0</td>\n",
       "      <td>0</td>\n",
       "      <td>0</td>\n",
       "      <td>0</td>\n",
       "      <td>77</td>\n",
       "      <td>0</td>\n",
       "    </tr>\n",
       "    <tr>\n",
       "      <th>3</th>\n",
       "      <td>4</td>\n",
       "      <td>3</td>\n",
       "      <td>2</td>\n",
       "      <td>1</td>\n",
       "      <td>3</td>\n",
       "      <td>0</td>\n",
       "      <td>0</td>\n",
       "      <td>1</td>\n",
       "      <td>1039</td>\n",
       "      <td>8146</td>\n",
       "      <td>0.0</td>\n",
       "      <td>0.0</td>\n",
       "      <td>405.0</td>\n",
       "      <td>717</td>\n",
       "      <td>281.0</td>\n",
       "      <td>0</td>\n",
       "      <td>0</td>\n",
       "      <td>0</td>\n",
       "      <td>0</td>\n",
       "      <td>109</td>\n",
       "      <td>6</td>\n",
       "    </tr>\n",
       "    <tr>\n",
       "      <th>4</th>\n",
       "      <td>8</td>\n",
       "      <td>3</td>\n",
       "      <td>4</td>\n",
       "      <td>1</td>\n",
       "      <td>4</td>\n",
       "      <td>0</td>\n",
       "      <td>0</td>\n",
       "      <td>3</td>\n",
       "      <td>1665</td>\n",
       "      <td>8400</td>\n",
       "      <td>0.0</td>\n",
       "      <td>643.0</td>\n",
       "      <td>810.0</td>\n",
       "      <td>810</td>\n",
       "      <td>528.0</td>\n",
       "      <td>0</td>\n",
       "      <td>1</td>\n",
       "      <td>0</td>\n",
       "      <td>1</td>\n",
       "      <td>8</td>\n",
       "      <td>8</td>\n",
       "    </tr>\n",
       "    <tr>\n",
       "      <th>...</th>\n",
       "      <td>...</td>\n",
       "      <td>...</td>\n",
       "      <td>...</td>\n",
       "      <td>...</td>\n",
       "      <td>...</td>\n",
       "      <td>...</td>\n",
       "      <td>...</td>\n",
       "      <td>...</td>\n",
       "      <td>...</td>\n",
       "      <td>...</td>\n",
       "      <td>...</td>\n",
       "      <td>...</td>\n",
       "      <td>...</td>\n",
       "      <td>...</td>\n",
       "      <td>...</td>\n",
       "      <td>...</td>\n",
       "      <td>...</td>\n",
       "      <td>...</td>\n",
       "      <td>...</td>\n",
       "      <td>...</td>\n",
       "      <td>...</td>\n",
       "    </tr>\n",
       "    <tr>\n",
       "      <th>2575</th>\n",
       "      <td>6</td>\n",
       "      <td>2</td>\n",
       "      <td>3</td>\n",
       "      <td>1</td>\n",
       "      <td>2</td>\n",
       "      <td>1</td>\n",
       "      <td>4</td>\n",
       "      <td>1</td>\n",
       "      <td>952</td>\n",
       "      <td>8854</td>\n",
       "      <td>0.0</td>\n",
       "      <td>0.0</td>\n",
       "      <td>952.0</td>\n",
       "      <td>952</td>\n",
       "      <td>192.0</td>\n",
       "      <td>0</td>\n",
       "      <td>0</td>\n",
       "      <td>0</td>\n",
       "      <td>0</td>\n",
       "      <td>93</td>\n",
       "      <td>59</td>\n",
       "    </tr>\n",
       "    <tr>\n",
       "      <th>2576</th>\n",
       "      <td>3</td>\n",
       "      <td>2</td>\n",
       "      <td>0</td>\n",
       "      <td>0</td>\n",
       "      <td>3</td>\n",
       "      <td>1</td>\n",
       "      <td>4</td>\n",
       "      <td>1</td>\n",
       "      <td>1733</td>\n",
       "      <td>13680</td>\n",
       "      <td>0.0</td>\n",
       "      <td>0.0</td>\n",
       "      <td>0.0</td>\n",
       "      <td>1733</td>\n",
       "      <td>452.0</td>\n",
       "      <td>0</td>\n",
       "      <td>0</td>\n",
       "      <td>0</td>\n",
       "      <td>1</td>\n",
       "      <td>54</td>\n",
       "      <td>54</td>\n",
       "    </tr>\n",
       "    <tr>\n",
       "      <th>2577</th>\n",
       "      <td>5</td>\n",
       "      <td>2</td>\n",
       "      <td>3</td>\n",
       "      <td>1</td>\n",
       "      <td>3</td>\n",
       "      <td>0</td>\n",
       "      <td>0</td>\n",
       "      <td>1</td>\n",
       "      <td>2002</td>\n",
       "      <td>6270</td>\n",
       "      <td>0.0</td>\n",
       "      <td>284.0</td>\n",
       "      <td>1001.0</td>\n",
       "      <td>1001</td>\n",
       "      <td>871.0</td>\n",
       "      <td>0</td>\n",
       "      <td>0</td>\n",
       "      <td>0</td>\n",
       "      <td>5</td>\n",
       "      <td>58</td>\n",
       "      <td>57</td>\n",
       "    </tr>\n",
       "    <tr>\n",
       "      <th>2578</th>\n",
       "      <td>7</td>\n",
       "      <td>3</td>\n",
       "      <td>4</td>\n",
       "      <td>1</td>\n",
       "      <td>4</td>\n",
       "      <td>1</td>\n",
       "      <td>3</td>\n",
       "      <td>3</td>\n",
       "      <td>1842</td>\n",
       "      <td>8826</td>\n",
       "      <td>144.0</td>\n",
       "      <td>841.0</td>\n",
       "      <td>985.0</td>\n",
       "      <td>985</td>\n",
       "      <td>486.0</td>\n",
       "      <td>0</td>\n",
       "      <td>1</td>\n",
       "      <td>0</td>\n",
       "      <td>1</td>\n",
       "      <td>7</td>\n",
       "      <td>7</td>\n",
       "    </tr>\n",
       "    <tr>\n",
       "      <th>2579</th>\n",
       "      <td>8</td>\n",
       "      <td>3</td>\n",
       "      <td>4</td>\n",
       "      <td>1</td>\n",
       "      <td>4</td>\n",
       "      <td>1</td>\n",
       "      <td>3</td>\n",
       "      <td>2</td>\n",
       "      <td>1911</td>\n",
       "      <td>9554</td>\n",
       "      <td>125.0</td>\n",
       "      <td>380.0</td>\n",
       "      <td>777.0</td>\n",
       "      <td>1065</td>\n",
       "      <td>471.0</td>\n",
       "      <td>0</td>\n",
       "      <td>1</td>\n",
       "      <td>0</td>\n",
       "      <td>5</td>\n",
       "      <td>13</td>\n",
       "      <td>12</td>\n",
       "    </tr>\n",
       "  </tbody>\n",
       "</table>\n",
       "<p>2580 rows × 21 columns</p>\n",
       "</div>"
      ],
      "text/plain": [
       "      OverallQual  ExterQual  BsmtQual  BsmtExposure  KitchenQual  Fireplaces  \\\n",
       "0               6          2         3             1            3           1   \n",
       "1               5          3         4             2            4           0   \n",
       "2               5          3         3             1            4           0   \n",
       "3               4          3         2             1            3           0   \n",
       "4               8          3         4             1            4           0   \n",
       "...           ...        ...       ...           ...          ...         ...   \n",
       "2575            6          2         3             1            2           1   \n",
       "2576            3          2         0             0            3           1   \n",
       "2577            5          2         3             1            3           0   \n",
       "2578            7          3         4             1            4           1   \n",
       "2579            8          3         4             1            4           1   \n",
       "\n",
       "      FireplaceQu  GarageFinish  GrLivArea  LotArea  MasVnrArea  BsmtFinSF1  \\\n",
       "0               4             1        856     7890         0.0       238.0   \n",
       "1               0             3       1049     4235       149.0       552.0   \n",
       "2               0             1       1001     6060         0.0       737.0   \n",
       "3               0             1       1039     8146         0.0         0.0   \n",
       "4               0             3       1665     8400         0.0       643.0   \n",
       "...           ...           ...        ...      ...         ...         ...   \n",
       "2575            4             1        952     8854         0.0         0.0   \n",
       "2576            4             1       1733    13680         0.0         0.0   \n",
       "2577            0             1       2002     6270         0.0       284.0   \n",
       "2578            3             3       1842     8826       144.0       841.0   \n",
       "2579            3             2       1911     9554       125.0       380.0   \n",
       "\n",
       "      TotalBsmtSF  1stFlrSF  GarageArea  Neighborhood_NridgHt  \\\n",
       "0           856.0       856       399.0                     0   \n",
       "1          1049.0      1049       266.0                     0   \n",
       "2           837.0      1001       216.0                     0   \n",
       "3           405.0       717       281.0                     0   \n",
       "4           810.0       810       528.0                     0   \n",
       "...           ...       ...         ...                   ...   \n",
       "2575        952.0       952       192.0                     0   \n",
       "2576          0.0      1733       452.0                     0   \n",
       "2577       1001.0      1001       871.0                     0   \n",
       "2578        985.0       985       486.0                     0   \n",
       "2579        777.0      1065       471.0                     0   \n",
       "\n",
       "      Foundation_PConc  SaleCondition_Partial  CrimeRate  HomeAge  LastRemod  \n",
       "0                    0                      0          5       71         60  \n",
       "1                    0                      0          1       25         25  \n",
       "2                    0                      0          0       77          0  \n",
       "3                    0                      0          0      109          6  \n",
       "4                    1                      0          1        8          8  \n",
       "...                ...                    ...        ...      ...        ...  \n",
       "2575                 0                      0          0       93         59  \n",
       "2576                 0                      0          1       54         54  \n",
       "2577                 0                      0          5       58         57  \n",
       "2578                 1                      0          1        7          7  \n",
       "2579                 1                      0          5       13         12  \n",
       "\n",
       "[2580 rows x 21 columns]"
      ]
     },
     "execution_count": 219,
     "metadata": {},
     "output_type": "execute_result"
    }
   ],
   "source": [
    "selected_features = features[['OverallQual', 'ExterQual', 'BsmtQual', 'BsmtExposure', \n",
    "                             'KitchenQual', 'Fireplaces', 'FireplaceQu', 'GarageFinish', \n",
    "                             'GrLivArea', 'LotArea', 'MasVnrArea', 'BsmtFinSF1', 'TotalBsmtSF', \n",
    "                             '1stFlrSF', 'GarageArea', 'Neighborhood_NridgHt', 'Foundation_PConc', \n",
    "                             'SaleCondition_Partial', 'CrimeRate', 'HomeAge', 'LastRemod']]\n",
    "selected_features"
   ]
  },
  {
   "cell_type": "code",
   "execution_count": null,
   "metadata": {},
   "outputs": [],
   "source": []
  },
  {
   "cell_type": "code",
   "execution_count": 345,
   "metadata": {},
   "outputs": [
    {
     "name": "stdout",
     "output_type": "stream",
     "text": [
      "features: 78, alpha: 9.47368947368421, train score: 0.9172630006263184,  test score: 0.9062734225500892\n"
     ]
    }
   ],
   "source": [
    "# grid search with ridge, 219 col\n",
    "X_train, X_test, Y_train, Y_test = train_test_split(features, target)\n",
    "\n",
    "paramDict = {'alpha': np.linspace(1e-5, 20, 20),\n",
    "             'normalize': [True, False]}\n",
    "grid = GridSearchCV(ridge, param_grid=paramDict, cv=10, return_train_score = True)\n",
    "ans = grid.fit(X_train, Y_train)\n",
    "\n",
    "ridge = ans.best_estimator_\n",
    "ridge.fit(X_train, Y_train)\n",
    "\n",
    "coefs = {}\n",
    "\n",
    "for idx, coef in enumerate(ridge.coef_):\n",
    "    if coef == 0:\n",
    "        continue\n",
    "    else:\n",
    "        coefs[features.columns[idx]] = coef\n",
    "\n",
    "sig_coefs = [feature[:feature.find('_')] if '_' in feature \n",
    "             else feature for feature in coefs.keys()]\n",
    "\n",
    "print(f'features: {len(set(sig_coefs))}, alpha: {ridge.alpha},\\\n",
    " train score: {ridge.score(X_train, Y_train)}, \\\n",
    " test score: {ridge.score(X_test, Y_test)}')\n",
    "\n",
    "# print(coefs.keys())"
   ]
  },
  {
   "cell_type": "code",
   "execution_count": 346,
   "metadata": {},
   "outputs": [
    {
     "name": "stdout",
     "output_type": "stream",
     "text": [
      "features: 78, alpha: 1.0000230261160268, train score: 0.8765442602076285,  test score: 0.8951849177800949\n"
     ]
    }
   ],
   "source": [
    "# grid search with enet\n",
    "X_train, X_test, Y_train, Y_test = train_test_split(features, target)\n",
    "\n",
    "paramDict = {'alpha': np.logspace(1e-5, 20, 20),\n",
    "             'normalize': [True, False]}\n",
    "grid = GridSearchCV(enet, param_grid=paramDict, cv=10, return_train_score = True)\n",
    "ans = grid.fit(X_train, Y_train)\n",
    "\n",
    "enet = ans.best_estimator_\n",
    "enet.fit(X_train, Y_train)\n",
    "\n",
    "coefs = {}\n",
    "\n",
    "for idx, coef in enumerate(enet.coef_):\n",
    "    if coef == 0:\n",
    "        continue\n",
    "    else:\n",
    "        coefs[features.columns[idx]] = coef\n",
    "\n",
    "sig_coefs = [feature[:feature.find('_')] if '_' in feature \n",
    "             else feature for feature in coefs.keys()]\n",
    "\n",
    "print(f'features: {len(set(sig_coefs))}, alpha: {enet.alpha},\\\n",
    " train score: {enet.score(X_train, Y_train)}, \\\n",
    " test score: {enet.score(X_test, Y_test)}')\n",
    "\n",
    "# print(coefs.keys())"
   ]
  },
  {
   "cell_type": "code",
   "execution_count": null,
   "metadata": {},
   "outputs": [],
   "source": [
    "X_train, X_test, Y_train, Y_test = train_test_split(features, target)\n",
    "logis.fit(X_train, Y_train)\n",
    "print(logis.score(X_train, Y_train))"
   ]
  },
  {
   "cell_type": "code",
   "execution_count": 320,
   "metadata": {},
   "outputs": [
    {
     "name": "stdout",
     "output_type": "stream",
     "text": [
      "features: 78, alpha: 1.0000230261160268, score: 0.8946314001586442\n"
     ]
    }
   ],
   "source": [
    "# grid search with logistic regression\n",
    "X_train, X_test, Y_train, Y_test = train_test_split(features, target)\n",
    "\n",
    "paramDict = {'alpha': np.logspace(1e-5, 20, 20),\n",
    "             'normalize': [True, False]}\n",
    "grid = GridSearchCV(enet, param_grid=paramDict, cv=10, return_train_score = True)\n",
    "ans = grid.fit(X_test, Y_test)\n",
    "\n",
    "enet = ans.best_estimator_\n",
    "enet.fit(X_train, Y_train)\n",
    "\n",
    "coefs = {}\n",
    "\n",
    "for idx, coef in enumerate(enet.coef_):\n",
    "    if coef == 0:\n",
    "        continue\n",
    "    else:\n",
    "        coefs[features.columns[idx]] = coef\n",
    "\n",
    "sig_coefs = [feature[:feature.find('_')] if '_' in feature \n",
    "             else feature for feature in coefs.keys()]\n",
    "\n",
    "print(f'features: {len(set(sig_coefs))}, alpha: {enet.alpha},\\\n",
    " score: {enet.score(X_test, Y_test)}')\n",
    "\n",
    "# print(coefs.keys())"
   ]
  },
  {
   "cell_type": "code",
   "execution_count": null,
   "metadata": {},
   "outputs": [],
   "source": []
  },
  {
   "cell_type": "code",
   "execution_count": null,
   "metadata": {
    "scrolled": false
   },
   "outputs": [],
   "source": []
  },
  {
   "cell_type": "code",
   "execution_count": null,
   "metadata": {},
   "outputs": [],
   "source": []
  },
  {
   "cell_type": "code",
   "execution_count": null,
   "metadata": {},
   "outputs": [],
   "source": []
  },
  {
   "cell_type": "markdown",
   "metadata": {},
   "source": [
    "###### Time Series Analysis"
   ]
  },
  {
   "cell_type": "code",
   "execution_count": null,
   "metadata": {},
   "outputs": [],
   "source": [
    "DateSold = pd.to_datetime(housing['YrSold'].astype(str) + '-' + \n",
    "                        housing['MoSold'].astype(str) + '-1').rename('DateSold')"
   ]
  },
  {
   "cell_type": "code",
   "execution_count": null,
   "metadata": {
    "scrolled": false
   },
   "outputs": [],
   "source": [
    "# for i in df2['Neighborhood'].unique():\n",
    "#     print(df2[df2['Neighborhood'] == i])"
   ]
  },
  {
   "cell_type": "code",
   "execution_count": null,
   "metadata": {},
   "outputs": [],
   "source": [
    "DateSold = pd.to_datetime(housing['YrSold'].astype(str) + '-' + \n",
    "                        housing['MoSold'].astype(str) + '-1').rename('DateSold')\n",
    "\n",
    "df = housing[['SalePrice']].set_index(DateSold).groupby('DateSold').mean()\n",
    "fig = df.plot(legend=False)\n",
    "fig.set(xlabel='Date Sold',\n",
    "        ylabel='Sale Price',\n",
    "        xticks=['2006-01', '2007-01', '2008-01', '2009-01', '2010-01'],\n",
    "        xticklabels=list(range(2006, 2011)),\n",
    "        yticks=[1e5, 1.5e5, 2e5, 2.5e5],\n",
    "        yticklabels=['100K', '150K', '200K', '250K'])\n",
    "plt.title('Random Walk of Sold Homes', fontsize = 15)\n",
    "plt.tight_layout()\n",
    "plt.savefig('./visualizations/EDA - Timeseries DateSold, Lineplot.png', dpi = 1000)\n",
    "plt.show()"
   ]
  },
  {
   "cell_type": "code",
   "execution_count": null,
   "metadata": {},
   "outputs": [],
   "source": [
    "from pylab import rcParams\n",
    "import statsmodels.api as sm\n",
    "import warnings\n",
    "warnings.filterwarnings(\"ignore\")\n",
    "\n",
    "rcParams['figure.figsize'] = 18, 8\n",
    "decomposition = sm.tsa.seasonal_decompose(df, model='additive')\n",
    "fig = decomposition.plot()\n",
    "plt.show()"
   ]
  },
  {
   "cell_type": "code",
   "execution_count": null,
   "metadata": {},
   "outputs": [],
   "source": [
    "import itertools\n",
    "p = d = q = range(0, 2)\n",
    "pdq = list(itertools.product(p, d, q))\n",
    "seasonal_pdq = [(x[0], x[1], x[2], 12) for x in list(itertools.product(p, d, q))]\n",
    "print('Examples of parameter combinations for Seasonal ARIMA...')\n",
    "print('SARIMAX: {} x {}'.format(pdq[1], seasonal_pdq[1]))\n",
    "print('SARIMAX: {} x {}'.format(pdq[1], seasonal_pdq[2]))\n",
    "print('SARIMAX: {} x {}'.format(pdq[2], seasonal_pdq[3]))\n",
    "print('SARIMAX: {} x {}'.format(pdq[2], seasonal_pdq[4]))"
   ]
  },
  {
   "cell_type": "code",
   "execution_count": null,
   "metadata": {
    "scrolled": true
   },
   "outputs": [],
   "source": [
    "results = []\n",
    "for param in pdq:\n",
    "    for param_seasonal in seasonal_pdq:\n",
    "        try:\n",
    "            mod = sm.tsa.statespace.SARIMAX(df,\n",
    "                                            order=param,\n",
    "                                            seasonal_order=param_seasonal,\n",
    "                                            enforce_stationarity=False,\n",
    "                                            enforce_invertibility=False)\n",
    "            result = mod.fit(disp=False)\n",
    "            results.append([param, param_seasonal, result.aic])\n",
    "            \n",
    "        except:\n",
    "            continue"
   ]
  },
  {
   "cell_type": "code",
   "execution_count": null,
   "metadata": {},
   "outputs": [],
   "source": [
    "# lets find the best parameters with the lowest AIC score and lowest MSE\n",
    "\n",
    "optimal_sarima = 1e6\n",
    "pdq = []\n",
    "seasonal_pdq = []\n",
    "\n",
    "for arima, sarima, aic in results:\n",
    "    if aic < optimal_sarima:\n",
    "        optimal_sarima = aic\n",
    "        pdq = arima\n",
    "        seasonal_pdq = sarima\n",
    "    else:\n",
    "        continue\n",
    "        \n",
    "print(f'arima: {pdq}, sarima: {seasonal_pdq}, AIC: {optimal_sarima}')"
   ]
  },
  {
   "cell_type": "code",
   "execution_count": null,
   "metadata": {
    "scrolled": false
   },
   "outputs": [],
   "source": [
    "mod = sm.tsa.statespace.SARIMAX(df,\n",
    "                                order=(1, 1, 1),\n",
    "                                seasonal_order=(1, 1, 0, 12),\n",
    "                                enforce_stationarity=False,\n",
    "                                enforce_invertibility=False)\n",
    "result = mod.fit(disp=False)\n",
    "print(result.summary().tables[1])"
   ]
  },
  {
   "cell_type": "code",
   "execution_count": null,
   "metadata": {},
   "outputs": [],
   "source": [
    "result.plot_diagnostics(lags = 20)"
   ]
  },
  {
   "cell_type": "code",
   "execution_count": null,
   "metadata": {},
   "outputs": [],
   "source": [
    "pred = result.get_prediction(start=pd.to_datetime('2010-01-01'), dynamic=False)\n",
    "pred_ci = pred.conf_int()\n",
    "ax = df.plot(label='Observed')\n",
    "pred.predicted_mean.plot(ax=ax, label='Prediction', alpha=.7, figsize=(14, 7))\n",
    "mse = ((df['2010-01-01':].squeeze() - pred.predicted_mean) ** 2).mean()\n",
    "ax.fill_between(pred_ci.index,\n",
    "                pred_ci.iloc[:, 0],\n",
    "                pred_ci.iloc[:, 1], color='k', alpha=.2)\n",
    "ax.set_xlabel('Date')\n",
    "ax.set_ylabel('Sale Price')\n",
    "plt.legend()\n",
    "plt.show()\n",
    "print(f'arima: {arima}, sarima: {sarima}, aic: {aic}, mse = {mse}')"
   ]
  },
  {
   "cell_type": "code",
   "execution_count": null,
   "metadata": {
    "scrolled": false
   },
   "outputs": [],
   "source": [
    "# import math\n",
    "# for arima, sarima, aic in results:\n",
    "    \n",
    "#     mod = sm.tsa.statespace.SARIMAX(df,\n",
    "#                                 order=arima,\n",
    "#                                 seasonal_order=sarima,\n",
    "#                                 enforce_stationarity=False,\n",
    "#                                 enforce_invertibility=False)\n",
    "#     result = mod.fit(disp=False)\n",
    "\n",
    "#     pred = result.get_prediction(start=pd.to_datetime('2009-01-01'), dynamic=False)\n",
    "#     pred_ci = pred.conf_int()\n",
    "#     ax = df.plot(label='Observed')\n",
    "#     pred.predicted_mean.plot(ax=ax, label='Prediction', alpha=.7, figsize=(14, 7))\n",
    "    \n",
    "#     mse = ((df['2010-01-01':].squeeze() - pred.predicted_mean) ** 2).mean()\n",
    "    \n",
    "#     ax.fill_between(pred_ci.index,\n",
    "#                     pred_ci.iloc[:, 0],\n",
    "#                     pred_ci.iloc[:, 1], color='k', alpha=.2)\n",
    "#     ax.set_xlabel('Date')\n",
    "#     ax.set_ylabel('Sale Price')\n",
    "\n",
    "#     plt.legend()\n",
    "#     plt.show()\n",
    "#     print(f'arima: {arima}, sarima: {sarima}, aic: {aic}, mse = {mse}')"
   ]
  },
  {
   "cell_type": "markdown",
   "metadata": {},
   "source": [
    "##### Regression"
   ]
  },
  {
   "cell_type": "markdown",
   "metadata": {},
   "source": [
    "# Machine Learning Project - Ames Housing Data\n",
    "\n",
    "Ames, Iowa is the college town of **Iowa State University**. The Ames housing dataset consists of about $2500$ house sale records between $2006-2010$. Detailed information about the house attributes, along with the sale prices, is recorded in the dataset. The goal of the project is to:\n",
    "- perform descriptive data analysis to gain business (i.e. housing market) insights\n",
    "- build descriptive machine learning models to understand the local housing market.\n",
    "- build predictive machine learning models for the local house price prediction.\n",
    "\n",
    "A subset of the **Ames** dataset is hosted on [**Kaggle**](https://www.kaggle.com/c/house-prices-advanced-regression-techniques/data) as an entry-level regression competition. You may visit their site for some information on the meanings of its data columns (the data dictionary). In this notebook, we will describe various project ideas related to this data."
   ]
  },
  {
   "cell_type": "markdown",
   "metadata": {},
   "source": [
    "## Who You Are\n",
    "\n",
    "You can choose (but are not limited to) one of the following options:\n",
    "- You are a housing market consultant.\n",
    "- You are a data scientist for an online real estate database company which provides house price estimation (like **Zillow** home price estimates) for the site visitors.\n",
    "\n",
    "No matter what angle you choose, your goal is to build a highly accurate predictive or descriptive model. To accomplish this, it is important to understand the local housing market in a **data driven** way. Your data analytics should be an objective analysis backed by your data!"
   ]
  },
  {
   "cell_type": "markdown",
   "metadata": {},
   "source": [
    "## The Project Workflow\n",
    "\n",
    "- Starting with in-depth data analysis (mandatory) and data pre-processing, your team can choose to specialize in either:\n",
    "     - $100\\%$ descriptive modeling on home prices, or\n",
    "     - say $40\\%$ descriptive modeling and $60\\%$ predictive modeling tasks on home prices.\n",
    "     - It's OK to focus on other areas, but these areas must align with your end-goal in your job-search.\n",
    "\n",
    "\n",
    "- Tools you are expected to use:\n",
    "   - **Data analysis and missing value imputation**: **pandas**, **dplr**, and the accompanying visualization tools, some multiple linear regression or logistic regression.\n",
    "   - **Descriptive models**: feature selection, feature engineering, multiple linear regression, Python statsmodels or their R couterpart, penalized linear regression, stepwise regression (**AIC**, **BIC**, etc.), some gridsearch, KNN, SVR, Random Forest, Gradient Boosting, and potentially other models.\n",
    "   - **Predictive models**: feature selection, feature engineering, gridsearchCV, multiple/penalized linear regression, gridsearch, Random Forest, Gradient Boosting, and potentially other models.\n",
    "\n",
    "\n",
    "You can use machine learning models beyond those we list above, but don't make these optional models your first priority. Doing this would limit your time spent on the more fundamental part of the project. This is not wise!\n",
    "\n",
    "The art of **feature engineering** includes generating new features, or selecting optimal features to feed into the machine learning models. If your goal is to improve accuracy, then the **optimal** features would mean the feature combination that offers high predictive accuracy. However, if your goal is to fit an **optimal** descriptive model for the purpose of improving business efficiency/profitability, the most accurate model might not give you the insights you want. As a modeler, you need to gauge which is most appropriate based on your objectives.\n",
    "\n",
    "\n",
    "Clever ideas for **feature generation** are often inspired by high quality data analysis. Thus, we will suggest a few research questions to point you in the right direction. Chronologically, your team should work on data analysis and modeling simultaneously. Do **not** wait to start modelling until after you complete your data analysis phase, you will be pressed for time."
   ]
  },
  {
   "cell_type": "code",
   "execution_count": null,
   "metadata": {},
   "outputs": [],
   "source": [
    "housing"
   ]
  },
  {
   "cell_type": "code",
   "execution_count": null,
   "metadata": {},
   "outputs": [],
   "source": [
    "realty.head()"
   ]
  },
  {
   "cell_type": "code",
   "execution_count": null,
   "metadata": {},
   "outputs": [],
   "source": [
    "# tier and range is only one value: 0\n",
    "realty.drop(['Tier', 'Range'], axis = 1)\n",
    "\n",
    "\n",
    "#dummification\n",
    "# ZngCdPr: Zoning Code, Primary: 26 factors, including NaN\n",
    "# ZngCdSc: Zoning Code, Secondary: 9 factors, including NaN\n",
    "# ZngCdPr: Zoning P&Z Overlay / Floating, Primary: 10 factors, including NaN\n",
    "# ZngCdSc: Zoning P&Z Overlay / Floating, Secondary: 3 factors, including NaN\n",
    "# ClassPr_S: Assessor Classification, Primary"
   ]
  },
  {
   "cell_type": "code",
   "execution_count": null,
   "metadata": {
    "scrolled": true
   },
   "outputs": [],
   "source": [
    "housing.columns"
   ]
  },
  {
   "cell_type": "markdown",
   "metadata": {},
   "source": [
    "## The Data"
   ]
  },
  {
   "cell_type": "markdown",
   "metadata": {},
   "source": [
    "There are two data sets included in the data folder: `Ames_Housing_Price_Data.csv` and `Ames_Real_Estate_Data.csv`.\n",
    "\n",
    "The `Ames_Housing_Price_Data.csv` set contains $81$ data columns, including the key feature **SalePrice** which will be used as the target of the predictive/descriptive modeling. **PID** refers to the land parcel ID, which can merged on the *MapRefNo* column of the **Ames Accessor Data** (`Ames_Real_Estate_Data.csv`) to find the property address. Using a free service, such as **geopy**, we can find the long-lat coordinates of the houses.\n",
    "\n",
    "The columns of the data are mostly attributes associated with the land and the houses. There are size related attributes, quality and condition attributes, house attachment attributes, etc.\n",
    "\n",
    "To establish a foundation for your team's data analytics, we offer some insights on the house sizes vs. prices."
   ]
  },
  {
   "cell_type": "markdown",
   "metadata": {},
   "source": [
    "### How Does Price/SqrFt Play a Role in Housing Data Analytics?"
   ]
  },
  {
   "cell_type": "code",
   "execution_count": null,
   "metadata": {},
   "outputs": [],
   "source": [
    "from sklearn.feature_selection import f_regression\n",
    "from sklearn.linear_model import LinearRegression"
   ]
  },
  {
   "cell_type": "code",
   "execution_count": null,
   "metadata": {},
   "outputs": [],
   "source": [
    "price        = housing['SalePrice']\n",
    "size_related = housing.filter(regex='SF$|Area$')\n",
    "size_related.head()"
   ]
  },
  {
   "cell_type": "code",
   "execution_count": null,
   "metadata": {},
   "outputs": [],
   "source": [
    "size_related.isnull().sum(axis=0)"
   ]
  },
  {
   "cell_type": "markdown",
   "metadata": {},
   "source": [
    "### Performing Unary Feature Selection"
   ]
  },
  {
   "cell_type": "code",
   "execution_count": null,
   "metadata": {},
   "outputs": [],
   "source": [
    "size_related = size_related.fillna(0.0)  # We fill the very minor missing values by 0.0\n",
    "F_values, p_values = f_regression(size_related, housing['SalePrice'])\n",
    "\n",
    "pd.Series(p_values, index=size_related.columns).sort_values()"
   ]
  },
  {
   "cell_type": "code",
   "execution_count": null,
   "metadata": {
    "scrolled": false
   },
   "outputs": [],
   "source": [
    "import seaborn as sns\n",
    "corr = pd.concat([size_related, housing['SalePrice']], axis=1).corr()\n",
    "sns.heatmap(corr)"
   ]
  },
  {
   "cell_type": "code",
   "execution_count": null,
   "metadata": {},
   "outputs": [],
   "source": []
  },
  {
   "cell_type": "markdown",
   "metadata": {},
   "source": [
    "### GrLivArea \n",
    "\n",
    "Most of the size related columns have significant p-values on their correlations with **SalePrice**. The **Gross Living Area** (GrLivArea) has a vanishing p-value, which indicates a very strong statistical relationship. We will focus our research on **GrLivArea**."
   ]
  },
  {
   "cell_type": "code",
   "execution_count": null,
   "metadata": {},
   "outputs": [],
   "source": [
    "housing[['GrLivArea', 'SalePrice']].plot(kind='scatter', x='GrLivArea', y='SalePrice')"
   ]
  },
  {
   "cell_type": "markdown",
   "metadata": {},
   "source": [
    "### A Large Variation in Price/SqrFt\n",
    "\n",
    "The scatterplot above displays a fan-like structure which widens for larger houses. Considering straight lines through the origin, the slopes of these lines indicate the price per square-foot.\n",
    "\n",
    "The above plot suggests a wide range of $price/foot^2$ among the houses in Ames. If we fit a naive simple linear model, the constant variance assumption of simple linear regression would be seriously violated.\n",
    "\n",
    "The question is: how do we model this effectively? Luckily, pandas scatterplot has **logx** and **logy** arguments, which give us an important hint."
   ]
  },
  {
   "cell_type": "code",
   "execution_count": null,
   "metadata": {
    "scrolled": true
   },
   "outputs": [],
   "source": [
    "housing[['GrLivArea', 'SalePrice']].plot(kind='scatter', x='GrLivArea', y='SalePrice', logx=True, logy=True)"
   ]
  },
  {
   "cell_type": "markdown",
   "metadata": {},
   "source": [
    "After taking the log-log scatterplot, the fan-like structure disappears and the scatterplot can be approximated by a parallel family of line segments."
   ]
  },
  {
   "cell_type": "code",
   "execution_count": null,
   "metadata": {},
   "outputs": [],
   "source": [
    "lm = LinearRegression()\n",
    "grLivArea = size_related[['GrLivArea']]\n",
    "lm.fit(grLivArea, price)\n",
    "lm.score(grLivArea, price)"
   ]
  },
  {
   "cell_type": "code",
   "execution_count": null,
   "metadata": {},
   "outputs": [],
   "source": [
    "lm.fit(np.log10(grLivArea), np.log10(price))\n",
    "lm.score(np.log10(grLivArea), np.log10(price))"
   ]
  },
  {
   "cell_type": "markdown",
   "metadata": {},
   "source": [
    "### The Meaning of the Log-Log Linear Model\n",
    "\n",
    "From a model goodness-of-fit standpoint, the log-log linear model offers a slightly better description of the data. We would like to study the meaning of the model.\n",
    "\n",
    "What are the interpretations of the model intercept and slope? Unlike the original linear model which depicts that the sale price is proportional to the house gross living area, the log-log linear model offers totally different insights."
   ]
  },
  {
   "cell_type": "code",
   "execution_count": null,
   "metadata": {},
   "outputs": [],
   "source": [
    "lm.intercept_, lm.coef_"
   ]
  },
  {
   "cell_type": "markdown",
   "metadata": {},
   "source": [
    "Schematically, the above log-log linear regression can be expressed as\n",
    "\n",
    "$$log(price) = \\beta_0 +\\beta_1\\cdot log(area) + \\epsilon$$\n",
    "\n",
    "or equivalently,\n",
    "\n",
    "$$price = 10^{\\beta_0} \\cdot area^{\\beta_1}\\cdot 10^{\\epsilon}$$\n",
    "\n",
    "which we can then use to plug in our values\n",
    "\n",
    "$${price\\over area} = 10^{2.44}\\cdot area^{-0.12}\\cdot 10^{\\epsilon}$$\n",
    "\n",
    "This suggests an approximate formula for $price/ft^2$, which has been the yard-stick for all the housing transactions. Note that the negative exponent $-0.12$ above the area variable is $\\beta_1-1$. The above formula suggests that $price/ft^2$ would drop for larger houses. In your data analytics, you should **investigate a plausible reason** for this price drop."
   ]
  },
  {
   "cell_type": "code",
   "execution_count": null,
   "metadata": {},
   "outputs": [],
   "source": [
    "Nbr_quantile = housing.groupby('Neighborhood')['GrLivArea'].quantile(0.8)\n",
    "joint_Nbr_quantile = pd.merge(housing[['Neighborhood']], Nbr_quantile, how='left', left_on='Neighborhood', right_index=True)"
   ]
  },
  {
   "cell_type": "code",
   "execution_count": null,
   "metadata": {},
   "outputs": [],
   "source": [
    "smaller_home = grLivArea.GrLivArea < joint_Nbr_quantile.GrLivArea\n",
    "lm.fit(np.log10(grLivArea)[smaller_home], np.log10(price)[smaller_home])\n",
    "lm.intercept_, lm.coef_"
   ]
  },
  {
   "cell_type": "code",
   "execution_count": null,
   "metadata": {},
   "outputs": [],
   "source": [
    "lm.fit(np.log10(grLivArea)[~smaller_home],np.log10(price)[~smaller_home])\n",
    "lm.intercept_, lm.coef_"
   ]
  },
  {
   "cell_type": "markdown",
   "metadata": {},
   "source": [
    "### The Price Pressure on Larger Homes\n",
    "The homes with living areas below the $80\\%$ quantile **on average** follow a very simple relationship ${price\\over area} \\sim \\$120/ft^2$. \n",
    "\n",
    "Larger homes (top $20\\%$) follow a different relationship $${price\\over area} \\sim 29.5\\cdot area^{0.16}$$\n",
    "which is about $\\$105$ for a $2500$ square-foot home.\n",
    "\n",
    "This discount, or price pressure on larger homes, is why $\\beta_1\\sim 0.88$ if we aggregate all the homes together. In your data analysis, you should provide some clues about the origin of this price discount."
   ]
  },
  {
   "cell_type": "markdown",
   "metadata": {},
   "source": [
    "### A Reflection on the Various Choices in Modeling and Model Interpretation\n",
    "\n",
    "Machine learning models help us to formulate **Ames** house prices schematically as \n",
    "$$price = F(feature1, feature2, \\cdots,\\epsilon)$$\n",
    "where $\\epsilon$ represents the residuals. As a modeler, you shape your model by deciding the features involved and the \n",
    "form of the function $F$. Is the relationship in the data linear or highly non-linear?\n",
    "\n",
    "Naively, we may try to model the house price in terms of $price \\sim \\beta_1 area +\\beta_0+\\epsilon$.\n",
    "Within this context, $\\beta_1$ has the meaning of **price/square-foot** and $\\beta_0$ is the\n",
    "residual value (land, pavement, deck, pool, etc. of the house when the building disappears).\n",
    "\n",
    "The expanding fan-like structure of the scatter plot implies very large residuals for larger homes. This makes the model a good approximation of the reality **only** when the house is very small.\n",
    "\n",
    "On the other hand, we could fit either:\n",
    "- $log(price)\\sim \\beta_1\\cdot area + \\beta_0 + \\epsilon$\n",
    "- $log(price)\\sim \\beta_1 \\cdot log(area) + \\beta_0 +\\epsilon$."
   ]
  },
  {
   "cell_type": "markdown",
   "metadata": {},
   "source": [
    "### What Are the Major Implications of These Model Choices?\n",
    "\n",
    "The former suggests $price \\sim e^{\\beta_1\\cdot area}(e^{\\epsilon+\\beta_0})$, which treats\n",
    "the **area** (GrLivArea) attribute as a dispensible attribute of a house. Even if $area=0$,\n",
    "the home price fluctuates around a fixed residual value. The latter suggests $price \\sim area^{\\beta_1} e^{\\beta_0+\\epsilon}$, which implies that the house value vanishes if the house has NO gross living area at all.\n",
    "\n",
    "\n",
    "This suggests a general principle on model interpretation: \n",
    "- If we run a simple linear regression of a feature (after suitable engineering),\n",
    "$log(price)\\sim \\beta_{feature}feature + \\beta_0+\\epsilon$, this would imply\n",
    "$price\\sim e^{\\beta_{feature}\\cdot feature}\\cdot e^{\\beta_0+\\epsilon}$, which treats the feature as an optional attribute of the house.\n",
    "- If we model $log(price)\\sim \\beta_{feature}\\cdot log(feature) +\\beta_0+\\epsilon$, \n",
    "this implies $price\\sim {(feature)}^{\\beta_{feature}} \\cdot e^{\\beta_0+\\epsilon}$. Assuming\n",
    "$\\beta_{feature}>0$, this would imply a zero expected house value if $feature=0$. This implies that the feature is a very crucial attribute of a house.\n",
    "- A multiple linear regression model $price\\sim \\sum \\beta_iX_i+\\epsilon$ implies that the\n",
    "expected house price is the sum of the individual components.\n",
    "- A log-linear model $log(price)\\sim \\sum_i \\beta_iX_i+\\epsilon$ implies that the expected house price is a product of independent factors $e^{\\beta_i \\cdot X_i}$.\n",
    "\n",
    "In modeling **Ames** house prices using linear regression, your model design should be built upon your solid rationale for the dyanamics of the local housing market. This observation suggests that for the sake of simplicity of interpretation, it is better to group multiple highly correlated features together instead of treating them as separate features. This is in perfect agreement with the need to drop the feature dimension to reduce multi-collinearity (in the **Ames** data set, we have over 80 features)."
   ]
  },
  {
   "cell_type": "markdown",
   "metadata": {},
   "source": [
    "### A Remark on Descriptive vs Predictive ML Modeling\n",
    "\n",
    "- A **descriptive machine learning model** aims to describe the data (in our context, the **Ames** housing market), to generate (business) insights. Descriptive modeling is used by data analysts and data scientists.\n",
    "- A **predictive machine learning model** aims to forecast the house prices based on the house features. A strong model is one which offers the best model prediction performance. Predictive modeling is used by data scientists and data engineers.\n",
    "- Depending on your career track objectives, you should decide as a team whether to build a model for description (insights), for prediction accuracies, or work on both."
   ]
  },
  {
   "cell_type": "markdown",
   "metadata": {
    "collapsed": true
   },
   "source": [
    "### Data Analysis Ideas Beyond Basic EDA\n",
    "\n",
    "**Central Question**: The simple linear model based on **GrLivArea** points to $price/ft^2$ as an important derived target. On the other hand, the fan-like price/square-foot scatterplot implies that different houses have a wide range of $price/ft^2$. We would like to study the major driving factors for these **Ames** homes to have significantly different $price/ft^2$.\n",
    "\n",
    "No matter which local housing market we inspect, the house prices are the on-going consensus among the home-buyers and \n",
    "the home-sellers depending on the supply and demand of the current house market. The house market supply and demand\n",
    "is influnced by the local labor market/economical condition, job creation, population density, interest rate, price momentum, etc. Among all the area related features (e.g. 1st floor area, 2nd floor area, basement finished area, etc.), do\n",
    "the local home buyers show some preference towards some features over the others? In other words, are the home buyers\n",
    "willing to spend an equal amount for one square-foot of 1st floor living space, 2nd floor living space,\n",
    "deck space, finished basement space, etc.?\n",
    "\n",
    "Frame your study using **multiple linear regression** and interpret your findings in terms of\n",
    "the price discounts. Consider the following points:\n",
    "- Which of the house styles, ranch or colonial, is more popular in terms of the house prices?\n",
    "- What is the popularity in terms of the housing inventory (based on the available data)?\n",
    "- Does the house price sensitivity on **2ndFlrSF** depend on the house style (1st story excluded)?\n",
    "- How is **GrLivArea** engineered from the other area-related feature? If you would design a gross area feature (to replace **GrLivArea**) for the purpose of descriptive modeling, what would you do? What are the pros and cons when aggregating several features together?\n",
    "- Do home buyers value upstairs bathrooms and basement bathrooms equally? Do they price 'half-bath' as one half of a full bath? Based on your finding, how would you design an aggregate bathroom feature? \n",
    "- How much premium were the **Ames** home buyers (back in $2006-2010$) willing to pay for a swimming-pool, an open deck, or an enclosed porch? Did the home buyers value the optional additions based on their sizes?\n",
    "- How important is a garage in adding value to the houses? How about the differences between an attached vs. detached garage?\n",
    "- Are there feature combinations which increase the house values? What are the feature combinations which drive the house values down (making the house less desriable)? \n",
    "- **House Quality/Condition**: The **Ames** dataset grades each house by the appearance, kitchen, basement, garage, \n",
    "    heating, fireplace, .... and finally an overall quality/condition. \n",
    "     - How are the overall quality/condition features engineered from the individual quality/condition metrics?\n",
    "     - How do these metrics' importances affect local house prices?\n",
    "     - To what extent does the **curb appeal** affect the house prices?\n",
    "- Does home remodeling add value to the houses? For example, how do the old houses which were remodeled in the 1990s compare to the houses which were built in the 1990s?"
   ]
  },
  {
   "cell_type": "markdown",
   "metadata": {
    "collapsed": true
   },
   "source": [
    "### Neighborhood Analysis\n",
    "\n",
    "Many home buyers purchase their homes based on their neighborhood preferences and the location. Study the statistics on all the **Ames** neighborhoods, including prices, price/area, lot area, gross living area, built year, the ratios of one-story homes, the lot utility rate (how much of the lot is utilized to build the house), various quality/condition metrics, house styles, etc. Please depict a story of the urban development of **Ames** and relate it to the **Ames** house prices.\n",
    "\n",
    "To get familiar with the various **Ames** neighborhoods and the ratings of the public schools, visit the map tab of [realtor.com](https://www.realtor.com/realestateandhomes-search/North-Ames_Ames_IA?view=map). While there are many housing info web sites, **realtor.com** uses a neighborhood system which is more compatible with the one used in the dataset. Getting the long-lat coordinates of the $2500$ houses also helps to pin-point the relative geographic locations of the neighborhoods.\n",
    "\n",
    "Consider the following questions:\n",
    "- Does the price sensitivity on quality depend on the neighborhood?  \n",
    "- Given that **Ames** has about $30\\%$ poverty rate, and that **ISU** is the largest employer of the city, identify the affluent and poor neighborhoods based on your data analysis and the external information. Identify the neighborhoods which offer a convenient job commute.\n",
    "- What types of dwelling are popular in **Ames**? How about their popularities in the different neighborhoods?\n",
    "- **Time Series Analysis**:  \n",
    "    - During $2006-2010$, does **Ames** housing market show any pricing trend? Is your observation consistent with the fact that the great recession occured in $2008-2009$.\n",
    "    - How would you describe the price tend of different types of dwellings in terms of time series (hint: pivot/pivot_table)?\n",
    "    - In the U.S., there are more house-shopping activities during the warmer seasons (spring/summer). What is the seasonality of **Ames** house transactions?"
   ]
  },
  {
   "cell_type": "code",
   "execution_count": null,
   "metadata": {},
   "outputs": [],
   "source": [
    "realty.head()"
   ]
  },
  {
   "cell_type": "code",
   "execution_count": null,
   "metadata": {},
   "outputs": [],
   "source": [
    "housing.head()"
   ]
  },
  {
   "cell_type": "markdown",
   "metadata": {},
   "source": [
    "To Dummify:\n",
    "- MSSubClass: building class\n",
    "    - 16 factors\n",
    "- MSZoning: general zoning classification\n",
    "    - 7 factors\n",
    "- Street\n",
    "    - 2 factors (Pave: 63, Grvl: 105, NaN: 2412)\n",
    "- LotShape\n",
    "    - 4 factors (Reg, IR1, IR2, IR3)\n",
    "- LotContour\n",
    "    - 4 factors (Lvl, HLS, Bnk, Low)\n",
    "- Utilities\n",
    "    - 2 factors (AllPub: 2578, NoSewr: 2)\n",
    "- LotConfig\n",
    "    - 5 factors (Inside, Corner, CulDSac, FR2, FR3)\n",
    "- LandSlope\n",
    "    - 3 factors (Gtl, Mod, Sev)\n",
    "- Neighborhood\n",
    "    - 28 factors\n",
    "\n",
    "\n",
    "Continuous\n",
    "- LotFrontage (changed NaN to 0)\n"
   ]
  },
  {
   "cell_type": "code",
   "execution_count": null,
   "metadata": {},
   "outputs": [],
   "source": [
    "housing_raw.head()"
   ]
  },
  {
   "cell_type": "code",
   "execution_count": null,
   "metadata": {},
   "outputs": [],
   "source": [
    "housing['LotFrontage'] = housing['LotFrontage'].fillna(0)"
   ]
  },
  {
   "cell_type": "code",
   "execution_count": null,
   "metadata": {},
   "outputs": [],
   "source": [
    "housing"
   ]
  },
  {
   "cell_type": "code",
   "execution_count": null,
   "metadata": {},
   "outputs": [],
   "source": [
    "column = 'Condition2'\n",
    "print(housing[column].value_counts())\n",
    "housing[column].isnull().value_counts()"
   ]
  },
  {
   "cell_type": "code",
   "execution_count": null,
   "metadata": {},
   "outputs": [],
   "source": [
    "print(housing['MSSubClass'].value_counts())\n",
    "housing['MSSubClass'].isnull().value_counts()"
   ]
  },
  {
   "cell_type": "markdown",
   "metadata": {
    "collapsed": true
   },
   "source": [
    "### Descriptive Modeling Ideas\n",
    "\n",
    "The goal of a descriptive housing price model is to build a pricing model to describe the pricing rationale (the consensus of the home buyers/sellers), to describe the key driving factors that affect house prices, and to understand how they affect the local home prices. While prediction accuracy is welcome, the main objective is to gain insights on the local houing market to improve business. Apparently, the demographics inform what types of housing configurations are more popular. A house price model leads to a better understanding on the dynamics of the **Ames** housing market.\n",
    "\n",
    "- **Feature Interaction**: In the framework of linear models, the nonlinear feature interactions\n",
    "    need to be engineered by the data analyst/scientist manually. On the other hand, nonlinear\n",
    "    models can pick up feature-feature interactions internally.\n",
    "    - R offers a convenient way for modeling the feature interaction in the context of linear models, visit this [link](https://www.r-bloggers.com/r-tutorial-series-regression-with-interaction-variables/) for more information.\n",
    "    - Here are two more online resources: [interplot](https://cran.r-project.org/web/packages/interplot/vignettes/interplot-vignette.html), [Interaction Effects in Regression](https://blog.clairvoyantsoft.com/dealing-with-interaction-effects-in-regression-db647ed38691).\n",
    "    - In your (linear) pricing model, are there any feature-pair interactions? Does adding the feature-interaction term improve your model's descriptive power? Note that some of your data analysis will offer you hints on possible feature-feature interactions (categorical-quantitative interactions).\n",
    "    - If you build a non-linear pricing model, the **partial_dependence_plot** in sklearn (illustrated in the PML Gradient Boosting lecture code) or the **ICE plot** of the Python [**PDPBox** package](https://towardsdatascience.com/introducing-pdpbox-2aa820afd312) will help you to identify the candidate feature-feature interactions.\n",
    "\n",
    "\n",
    "- **Neighborhood Comps**: It is a very common practice for the home buyers to estimate the worth of the target home using the so-called 'neighborhood comp(atible)s.'\n",
    "    - Using the nonlinear **KNN** (or its variant **RadiusNN**), rbf-kernel **SVR** or tree-based models, build a baseline neighborhood comp model based on the houses' long-lat coordinates (and maybe with the house-types). Apparently this naive nonlinear model does not offer the full story behind house pricing. Your goal is to build a secondary pricing model (using the house attributes) modeling the residuals of the neighborhood comp. By building an enhanced neighborhood comp model, you should be able to gauge its relevance in house pricing, as well as identify the complementary features which help improve the model.\n",
    "    - Does your enhanced comps model offer valuable insights on the home buyers' purchase rationale?\n",
    "\n",
    "\n",
    "- **Transaction Time**: The **YrSold** and **MoSold** are the two features related to the transaction time.\n",
    "    - How would you build a model involving transaction time? What insights do you gain in this process?  \n",
    "\n",
    "\n",
    "- Model selection on linear models can be done by using adjusted $R^2$, **AIC/BIC** or by cross validation.\n",
    "- In using **GridSearchCV** to tune the hyperparameters of your models, be sure to value the internal consistency of your models over the test-set predictive accuracies.\n",
    "- It is good to self-reflect upon the pros and cons of the approaches you adapt. "
   ]
  },
  {
   "cell_type": "markdown",
   "metadata": {
    "collapsed": true
   },
   "source": [
    "### Predictive Modeling Ideas\n",
    "\n",
    "The goal of building a predictive model is to predict the house prices accurately (just like Zillow home price estimates), rather than to understand the housing market dynamics. So the so-called **black box** models can be considered if they offer better accuracies.\n",
    "\n",
    "- Because the number of features is large, multi-collinearity plagues multiple linear regression.\n",
    "- Ridge, Lasso, and linear kernel SVR are popular choices to start your research.\n",
    "- Use Lasso for feature selection if it is warranted.\n",
    "- On the other hand, non-linear models, particularly tree-based models, are popular choices.\n",
    "- **Ensembles**: If you train multiple models, you can put them into an ensemble to improve accuracies.\n",
    "- If you borrow your insights in data analysis to generate new features, be sure to prevent **data-leakage**, i.e. you avoid using the cv test set house price values in your feature engineering analysis."
   ]
  },
  {
   "cell_type": "markdown",
   "metadata": {
    "collapsed": true
   },
   "source": [
    "### Practical Applications For Your Models\n",
    "\n",
    "- **Student Apartment Rental**: A company would like to purchase multiple rental houses in **Ames** to rent to **ISU** students. Based on your data analysis and your models, please give advice to your client regarding the target neighborboods, the house types, and the profit margin estimations. \n",
    "    - The **Ames** property tax is about $1.5\\%$ of the market values. See [here](https://www.cityofames.org/government/departments-divisions-a-h/city-assessor/estimate-your-property-tax) for details.\n",
    "    - The estimated annual maintenance cost is about $2\\%$ of your property value.\n",
    "\n",
    "\n",
    "- **House Hunting** for a new **ISU Professor**: A new professor at **ISU** plans to buy his home for his family of four (him, his spouse, and two teenagers). He will tolerate a max of half an hour commute to work daily. You do not need to consider his spouse's commute time. Please advise him regarding the price ranges and the target neighborhoods for better schools.\n",
    "\n",
    "\n",
    "- **Business Intelligence** for the **Home Builder/Flipper**: A new home builder/old house remodeler would like to get into building new homes or flipping older houses for profit. Based on your modeling result, provide insights for your client. This is a more difficult question because it is hard to estimate building costs."
   ]
  },
  {
   "cell_type": "markdown",
   "metadata": {},
   "source": [
    "### Downloading the Lat-Long Coordinates with geopy\n",
    "- pip install **geopy**\n",
    "- use rate_limiter to slow down the download speed."
   ]
  },
  {
   "cell_type": "code",
   "execution_count": null,
   "metadata": {},
   "outputs": [],
   "source": [
    "import geopy\n",
    "from geopy import Nominatim\n",
    "from geopy.extra.rate_limiter import RateLimiter\n",
    "\n",
    "locator = Nominatim(user_agent=\"myGeocoder\")\n",
    "location = locator.geocode(\"Champ de Mars, Paris, France\")\n",
    "location"
   ]
  },
  {
   "cell_type": "markdown",
   "metadata": {},
   "source": [
    "- Wrap the raw geocoder by a rate-limiter, to prevent it from being blocked."
   ]
  },
  {
   "cell_type": "code",
   "execution_count": null,
   "metadata": {},
   "outputs": [],
   "source": [
    "geocode = RateLimiter(locator.geocode, min_delay_seconds=1.5)"
   ]
  },
  {
   "cell_type": "markdown",
   "metadata": {},
   "source": [
    "- Given a list (or series) of street addresses (or nan value) in Ames, \n",
    "\n",
    "`locations = [geocode(addr+', Ames, USA') if type(addr)==str else None for addr in stree_addresses]`"
   ]
  },
  {
   "cell_type": "markdown",
   "metadata": {
    "collapsed": true
   },
   "source": [
    "### How to Compute the Distances between Two Long-Lat Coordinates?\n",
    "\n",
    "- There are packages (like **geopy**) which allow you to compute the spherical distances. \n",
    "- For the purpose of machine learning, it is desirable to let the $L^2$ Euclidean distance (used by the algorithm) approximate the spherical distance. This can be very handy in neighborhood comps modeling.\n",
    "- Let $(\\theta_1, \\phi_1)$ and $(\\theta_2, \\phi_2)$ be two points on the sphere (the earth). When these two points are sufficiently close to each other, $\\theta_1\\cong \\theta_2$ and $\\phi_1\\cong\\phi_2$. For simplicity we assume that the sphere has a radius $1$ (The earth radius is about $3950$ miles). The spherical distance $\\Delta s$ can be approximated by the following formula:\n",
    "\n",
    "$$\\Delta^2 s = cos^2(\\phi)\\Delta^2\\theta + \\Delta^2\\phi$$\n",
    "\n",
    "where $\\phi\\cong \\phi_1\\cong\\phi_2\\cong 42^{\\circ}$ at **Ames**.\n",
    "\n",
    "This suggests that if we map the long-lat coordinates $(\\theta_i, \\phi_i), 1\\leq i\\leq 2$ to $(cos(\\phi)\\theta_1, \\phi_1)$, $(cos(\\phi)\\theta_2, \\phi_2)$,\n",
    "the 2D Euclidean distance is an approximation of the spherical distance."
   ]
  }
 ],
 "metadata": {
  "kernelspec": {
   "display_name": "Python 3 (ipykernel)",
   "language": "python",
   "name": "python3"
  },
  "language_info": {
   "codemirror_mode": {
    "name": "ipython",
    "version": 3
   },
   "file_extension": ".py",
   "mimetype": "text/x-python",
   "name": "python",
   "nbconvert_exporter": "python",
   "pygments_lexer": "ipython3",
   "version": "3.9.12"
  }
 },
 "nbformat": 4,
 "nbformat_minor": 2
}
