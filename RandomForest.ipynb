{
 "cells": [
  {
   "cell_type": "code",
   "execution_count": 30,
   "metadata": {
    "_cell_guid": "b1076dfc-b9ad-4769-8c92-a6c4dae69d19",
    "_uuid": "8f2839f25d086af736a60e9eeb907d3b93b6e0e5",
    "execution": {
     "iopub.execute_input": "2023-01-10T03:59:59.725412Z",
     "iopub.status.busy": "2023-01-10T03:59:59.725038Z",
     "iopub.status.idle": "2023-01-10T03:59:59.831751Z",
     "shell.execute_reply": "2023-01-10T03:59:59.830402Z",
     "shell.execute_reply.started": "2023-01-10T03:59:59.725382Z"
    }
   },
   "outputs": [],
   "source": [
    "## We run a bunch of grid searches. At the end, the best model is not taken from them. Model params are given from the grid searches if relevant\n",
    "## It would have to be ran again to get the CV scores for each of the models (perhaps try a grid search with the best params from each of the grid searches if this\n",
    "## is to be done)\n",
    "\n",
    "import sklearn\n",
    "import numpy as np\n",
    "import pandas as pd\n",
    "from sklearn.ensemble import RandomForestRegressor\n",
    "from sklearn.model_selection import train_test_split\n",
    "\n",
    "\n",
    "## These have to be changed once out of kaggle\n",
    "# df = pd.read_csv('/kaggle/input/whynot/features_dummified_214col.csv')\n",
    "# df2 = pd.read_csv('/kaggle/input/whynot/cleaned_housing.csv')\n",
    "\n",
    "df = pd.read_csv('./data/features_dummified_214col.csv')\n",
    "df2 = pd.read_csv('./data/cleaned_housing.csv')"
   ]
  },
  {
   "cell_type": "code",
   "execution_count": 31,
   "metadata": {
    "execution": {
     "iopub.execute_input": "2023-01-10T04:00:01.642112Z",
     "iopub.status.busy": "2023-01-10T04:00:01.641704Z",
     "iopub.status.idle": "2023-01-10T04:00:01.653931Z",
     "shell.execute_reply": "2023-01-10T04:00:01.652605Z",
     "shell.execute_reply.started": "2023-01-10T04:00:01.642080Z"
    }
   },
   "outputs": [],
   "source": [
    "RF = RandomForestRegressor()\n",
    "\n",
    "target = df2['SalePrice']\n",
    "\n",
    "X_train, X_test, y_train, y_test= train_test_split(df, target, test_size=0.3, random_state = 0)\n"
   ]
  },
  {
   "cell_type": "code",
   "execution_count": 34,
   "metadata": {
    "execution": {
     "iopub.execute_input": "2023-01-09T20:21:00.708404Z",
     "iopub.status.busy": "2023-01-09T20:21:00.707978Z",
     "iopub.status.idle": "2023-01-09T20:39:11.918900Z",
     "shell.execute_reply": "2023-01-09T20:39:11.917593Z",
     "shell.execute_reply.started": "2023-01-09T20:21:00.708356Z"
    }
   },
   "outputs": [],
   "source": [
    "from sklearn.model_selection import GridSearchCV\n",
    "param_grid = {'min_samples_split':[2, 5, 7, 10], \n",
    "              'min_samples_leaf':[1, 2, 5, 8], \n",
    "              'n_estimators':[50, 100, 200], \n",
    "              'max_depth':[2, 4, 6],\n",
    "              'max_features': ['auto', 'log2']}\n",
    "\n",
    "CV_RF = GridSearchCV(estimator=RF, param_grid=param_grid, cv= 5)\n",
    "CV_RF.fit(X_train, y_train)"
   ]
  },
  {
   "cell_type": "code",
   "execution_count": 9,
   "metadata": {
    "execution": {
     "iopub.execute_input": "2023-01-09T20:43:12.260017Z",
     "iopub.status.busy": "2023-01-09T20:43:12.259497Z",
     "iopub.status.idle": "2023-01-09T20:43:12.269600Z",
     "shell.execute_reply": "2023-01-09T20:43:12.268026Z",
     "shell.execute_reply.started": "2023-01-09T20:43:12.259979Z"
    }
   },
   "outputs": [
    {
     "data": {
      "text/plain": [
       "RandomForestRegressor(max_depth=6, min_samples_leaf=2, min_samples_split=7)"
      ]
     },
     "execution_count": 9,
     "metadata": {},
     "output_type": "execute_result"
    }
   ],
   "source": [
    "CV_RF.best_estimator_"
   ]
  },
  {
   "cell_type": "code",
   "execution_count": 10,
   "metadata": {
    "execution": {
     "iopub.execute_input": "2023-01-09T20:43:39.105314Z",
     "iopub.status.busy": "2023-01-09T20:43:39.104793Z",
     "iopub.status.idle": "2023-01-09T20:43:39.113815Z",
     "shell.execute_reply": "2023-01-09T20:43:39.112418Z",
     "shell.execute_reply.started": "2023-01-09T20:43:39.105273Z"
    }
   },
   "outputs": [
    {
     "data": {
      "text/plain": [
       "0.8627897437813207"
      ]
     },
     "execution_count": 10,
     "metadata": {},
     "output_type": "execute_result"
    }
   ],
   "source": [
    "CV_RF.best_score_"
   ]
  },
  {
   "cell_type": "code",
   "execution_count": 17,
   "metadata": {
    "execution": {
     "iopub.execute_input": "2023-01-09T20:51:51.371250Z",
     "iopub.status.busy": "2023-01-09T20:51:51.370836Z",
     "iopub.status.idle": "2023-01-09T20:51:51.412282Z",
     "shell.execute_reply": "2023-01-09T20:51:51.410721Z",
     "shell.execute_reply.started": "2023-01-09T20:51:51.371217Z"
    }
   },
   "outputs": [
    {
     "data": {
      "text/plain": [
       "0.9311257061944435"
      ]
     },
     "execution_count": 17,
     "metadata": {},
     "output_type": "execute_result"
    }
   ],
   "source": [
    "best_est = CV_RF.best_estimator_\n",
    "\n",
    "best_est.score(X_train,y_train)\n"
   ]
  },
  {
   "cell_type": "code",
   "execution_count": 36,
   "metadata": {},
   "outputs": [],
   "source": [
    "def grid_fit(model, params, cv):\n",
    "    \n",
    "    grid = GridSearchCV(model, params, cv=cv, return_train_score = True)\n",
    "    ans = grid.fit(X_train, y_train)\n",
    "    model = ans.best_estimator_\n",
    "    return model.fit(X_train, y_train)\n",
    "    \n",
    "def find_coefs(model):\n",
    "    coefs = {}\n",
    "    \n",
    "    for idx, coef in enumerate(model.feature_importances_):\n",
    "        if coef == 0:\n",
    "            continue\n",
    "        else:\n",
    "            coefs[df.columns[idx]] = coef\n",
    "\n",
    "    sig_coefs = [feature[:feature.find('_')] if '_' in feature \n",
    "                 else feature for feature in coefs.keys()]\n",
    "      \n",
    "#     print(f'{model}, {len(set(sig_coefs))}, {round(model.score(X_train, Y_train), 3)}, {round(model.score(X_test, Y_test), 3)}')\n",
    "    print(f'{model}, \\n\\\n",
    "    features: {len(set(sig_coefs))}, \\n\\\n",
    "    train score: {model.score(X_train, y_train)}, \\n\\\n",
    "    test score: {model.score(X_test, y_test)} \\n\\\n",
    "    coefs: {sig_coefs}')"
   ]
  },
  {
   "cell_type": "code",
   "execution_count": 37,
   "metadata": {},
   "outputs": [],
   "source": [
    "param_grid = {'min_samples_split':[2, 5, 7, 10], \n",
    "              'min_samples_leaf':[1, 2, 5, 8], \n",
    "              'n_estimators':[50, 100, 200], \n",
    "              'max_depth':[2, 4, 6],\n",
    "              'max_features': ['auto', 'log2']}\n",
    "\n",
    "forest = grid_fit(RF, param_grid, 5)"
   ]
  },
  {
   "cell_type": "code",
   "execution_count": 28,
   "metadata": {},
   "outputs": [
    {
     "ename": "IndexError",
     "evalue": "index 214 is out of bounds for axis 0 with size 214",
     "output_type": "error",
     "traceback": [
      "\u001b[0;31m---------------------------------------------------------------------------\u001b[0m",
      "\u001b[0;31mIndexError\u001b[0m                                Traceback (most recent call last)",
      "Input \u001b[0;32mIn [28]\u001b[0m, in \u001b[0;36m<cell line: 1>\u001b[0;34m()\u001b[0m\n\u001b[0;32m----> 1\u001b[0m \u001b[43mfind_coefs\u001b[49m\u001b[43m(\u001b[49m\u001b[43mforest\u001b[49m\u001b[43m)\u001b[49m\n",
      "Input \u001b[0;32mIn [25]\u001b[0m, in \u001b[0;36mfind_coefs\u001b[0;34m(model)\u001b[0m\n\u001b[1;32m     13\u001b[0m             \u001b[38;5;28;01mcontinue\u001b[39;00m\n\u001b[1;32m     14\u001b[0m         \u001b[38;5;28;01melse\u001b[39;00m:\n\u001b[0;32m---> 15\u001b[0m             coefs[\u001b[43mdf\u001b[49m\u001b[38;5;241;43m.\u001b[39;49m\u001b[43mcolumns\u001b[49m\u001b[43m[\u001b[49m\u001b[43midx\u001b[49m\u001b[43m]\u001b[49m] \u001b[38;5;241m=\u001b[39m coef\n\u001b[1;32m     17\u001b[0m     sig_coefs \u001b[38;5;241m=\u001b[39m [feature[:feature\u001b[38;5;241m.\u001b[39mfind(\u001b[38;5;124m'\u001b[39m\u001b[38;5;124m_\u001b[39m\u001b[38;5;124m'\u001b[39m)] \u001b[38;5;28;01mif\u001b[39;00m \u001b[38;5;124m'\u001b[39m\u001b[38;5;124m_\u001b[39m\u001b[38;5;124m'\u001b[39m \u001b[38;5;129;01min\u001b[39;00m feature \n\u001b[1;32m     18\u001b[0m                  \u001b[38;5;28;01melse\u001b[39;00m feature \u001b[38;5;28;01mfor\u001b[39;00m feature \u001b[38;5;129;01min\u001b[39;00m coefs\u001b[38;5;241m.\u001b[39mkeys()]\n\u001b[1;32m     20\u001b[0m \u001b[38;5;66;03m#     print(f'{model}, {len(set(sig_coefs))}, {round(model.score(X_train, Y_train), 3)}, {round(model.score(X_test, Y_test), 3)}')\u001b[39;00m\n",
      "File \u001b[0;32m~/opt/anaconda3/lib/python3.9/site-packages/pandas/core/indexes/base.py:5039\u001b[0m, in \u001b[0;36mIndex.__getitem__\u001b[0;34m(self, key)\u001b[0m\n\u001b[1;32m   5036\u001b[0m \u001b[38;5;28;01mif\u001b[39;00m is_integer(key) \u001b[38;5;129;01mor\u001b[39;00m is_float(key):\n\u001b[1;32m   5037\u001b[0m     \u001b[38;5;66;03m# GH#44051 exclude bool, which would return a 2d ndarray\u001b[39;00m\n\u001b[1;32m   5038\u001b[0m     key \u001b[38;5;241m=\u001b[39m com\u001b[38;5;241m.\u001b[39mcast_scalar_indexer(key, warn_float\u001b[38;5;241m=\u001b[39m\u001b[38;5;28;01mTrue\u001b[39;00m)\n\u001b[0;32m-> 5039\u001b[0m     \u001b[38;5;28;01mreturn\u001b[39;00m \u001b[43mgetitem\u001b[49m\u001b[43m(\u001b[49m\u001b[43mkey\u001b[49m\u001b[43m)\u001b[49m\n\u001b[1;32m   5041\u001b[0m \u001b[38;5;28;01mif\u001b[39;00m \u001b[38;5;28misinstance\u001b[39m(key, \u001b[38;5;28mslice\u001b[39m):\n\u001b[1;32m   5042\u001b[0m     \u001b[38;5;66;03m# This case is separated from the conditional above to avoid\u001b[39;00m\n\u001b[1;32m   5043\u001b[0m     \u001b[38;5;66;03m# pessimization com.is_bool_indexer and ndim checks.\u001b[39;00m\n\u001b[1;32m   5044\u001b[0m     result \u001b[38;5;241m=\u001b[39m getitem(key)\n",
      "\u001b[0;31mIndexError\u001b[0m: index 214 is out of bounds for axis 0 with size 214"
     ]
    }
   ],
   "source": [
    "find_coefs(forest)"
   ]
  },
  {
   "cell_type": "code",
   "execution_count": 29,
   "metadata": {},
   "outputs": [
    {
     "data": {
      "text/plain": [
       "array([8.44789809e-04, 1.15094763e-03, 7.48765258e-05, 5.95606440e-01,\n",
       "       1.32326885e-03, 5.87507478e-03, 2.01721328e-04, 3.92431510e-03,\n",
       "       2.54367741e-05, 6.59317396e-04, 6.44228130e-04, 1.66598878e-03,\n",
       "       0.00000000e+00, 7.15887730e-04, 1.14626069e-02, 4.69192948e-04,\n",
       "       3.34436859e-04, 3.92372482e-05, 8.76661314e-03, 5.44512449e-05,\n",
       "       2.57663989e-03, 3.14515287e-03, 7.90769086e-05, 2.94475524e-04,\n",
       "       2.98501220e-05, 1.46595930e-01, 1.34315128e-03, 9.35127411e-03,\n",
       "       7.99321694e-03, 1.98207777e-03, 2.98575129e-03, 3.83689606e-02,\n",
       "       3.47235961e-04, 1.51087137e-03, 8.78832776e-02, 2.58574100e-03,\n",
       "       2.62081125e-02, 2.23754645e-03, 2.99990316e-03, 9.86893619e-05,\n",
       "       0.00000000e+00, 3.10473255e-04, 0.00000000e+00, 4.79581469e-03,\n",
       "       4.02453338e-04, 5.32462943e-05, 0.00000000e+00, 0.00000000e+00,\n",
       "       0.00000000e+00, 3.35255922e-04, 3.63329041e-06, 0.00000000e+00,\n",
       "       0.00000000e+00, 0.00000000e+00, 0.00000000e+00, 0.00000000e+00,\n",
       "       0.00000000e+00, 0.00000000e+00, 0.00000000e+00, 0.00000000e+00,\n",
       "       0.00000000e+00, 0.00000000e+00, 3.98919427e-06, 0.00000000e+00,\n",
       "       0.00000000e+00, 1.28707029e-03, 0.00000000e+00, 1.33380871e-05,\n",
       "       0.00000000e+00, 0.00000000e+00, 0.00000000e+00, 0.00000000e+00,\n",
       "       0.00000000e+00, 5.88221752e-06, 0.00000000e+00, 0.00000000e+00,\n",
       "       0.00000000e+00, 0.00000000e+00, 0.00000000e+00, 9.01726812e-05,\n",
       "       0.00000000e+00, 2.81371404e-05, 0.00000000e+00, 5.36941222e-04,\n",
       "       0.00000000e+00, 1.56600855e-05, 0.00000000e+00, 0.00000000e+00,\n",
       "       0.00000000e+00, 0.00000000e+00, 0.00000000e+00, 0.00000000e+00,\n",
       "       0.00000000e+00, 2.93039856e-05, 4.23796545e-05, 6.66619685e-05,\n",
       "       4.99425514e-05, 0.00000000e+00, 0.00000000e+00, 1.26219248e-05,\n",
       "       4.28775202e-05, 4.86009099e-04, 0.00000000e+00, 0.00000000e+00,\n",
       "       1.06718767e-05, 0.00000000e+00, 0.00000000e+00, 0.00000000e+00,\n",
       "       0.00000000e+00, 0.00000000e+00, 0.00000000e+00, 0.00000000e+00,\n",
       "       0.00000000e+00, 0.00000000e+00, 0.00000000e+00, 0.00000000e+00,\n",
       "       0.00000000e+00, 0.00000000e+00, 0.00000000e+00, 0.00000000e+00,\n",
       "       5.67551873e-05, 0.00000000e+00, 1.05564694e-05, 1.50774423e-05,\n",
       "       0.00000000e+00, 0.00000000e+00, 0.00000000e+00, 5.20178172e-04,\n",
       "       0.00000000e+00, 0.00000000e+00, 0.00000000e+00, 0.00000000e+00,\n",
       "       3.41864194e-04, 0.00000000e+00, 0.00000000e+00, 0.00000000e+00,\n",
       "       0.00000000e+00, 0.00000000e+00, 0.00000000e+00, 0.00000000e+00,\n",
       "       0.00000000e+00, 0.00000000e+00, 0.00000000e+00, 0.00000000e+00,\n",
       "       0.00000000e+00, 0.00000000e+00, 0.00000000e+00, 0.00000000e+00,\n",
       "       0.00000000e+00, 6.05811983e-06, 3.32055522e-05, 0.00000000e+00,\n",
       "       0.00000000e+00, 7.38827261e-05, 0.00000000e+00, 0.00000000e+00,\n",
       "       0.00000000e+00, 0.00000000e+00, 0.00000000e+00, 0.00000000e+00,\n",
       "       0.00000000e+00, 0.00000000e+00, 0.00000000e+00, 3.87080135e-05,\n",
       "       1.53374188e-05, 0.00000000e+00, 0.00000000e+00, 0.00000000e+00,\n",
       "       0.00000000e+00, 0.00000000e+00, 0.00000000e+00, 1.57215406e-04,\n",
       "       3.17306707e-04, 5.39410459e-05, 8.03688312e-05, 0.00000000e+00,\n",
       "       0.00000000e+00, 0.00000000e+00, 0.00000000e+00, 0.00000000e+00,\n",
       "       0.00000000e+00, 0.00000000e+00, 0.00000000e+00, 2.11224114e-03,\n",
       "       0.00000000e+00, 0.00000000e+00, 0.00000000e+00, 0.00000000e+00,\n",
       "       0.00000000e+00, 5.33669826e-06, 0.00000000e+00, 6.04046681e-04,\n",
       "       0.00000000e+00, 0.00000000e+00, 0.00000000e+00, 0.00000000e+00,\n",
       "       0.00000000e+00, 0.00000000e+00, 0.00000000e+00, 0.00000000e+00,\n",
       "       0.00000000e+00, 0.00000000e+00, 0.00000000e+00, 2.07947081e-04,\n",
       "       0.00000000e+00, 0.00000000e+00, 0.00000000e+00, 0.00000000e+00,\n",
       "       0.00000000e+00, 0.00000000e+00, 0.00000000e+00, 9.38722475e-04,\n",
       "       2.89634289e-03, 8.04423880e-03, 2.39236610e-03])"
      ]
     },
     "execution_count": 29,
     "metadata": {},
     "output_type": "execute_result"
    }
   ],
   "source": [
    "forest.feature_importances_"
   ]
  },
  {
   "cell_type": "code",
   "execution_count": 40,
   "metadata": {},
   "outputs": [],
   "source": [
    "rf_feats = [8.44789809e-04, 1.15094763e-03, 7.48765258e-05, 5.95606440e-01,\n",
    "       1.32326885e-03, 5.87507478e-03, 2.01721328e-04, 3.92431510e-03,\n",
    "       2.54367741e-05, 6.59317396e-04, 6.44228130e-04, 1.66598878e-03,\n",
    "       0.00000000e+00, 7.15887730e-04, 1.14626069e-02, 4.69192948e-04,\n",
    "       3.34436859e-04, 3.92372482e-05, 8.76661314e-03, 5.44512449e-05,\n",
    "       2.57663989e-03, 3.14515287e-03, 7.90769086e-05, 2.94475524e-04,\n",
    "       2.98501220e-05, 1.46595930e-01, 1.34315128e-03, 9.35127411e-03,\n",
    "       7.99321694e-03, 1.98207777e-03, 2.98575129e-03, 3.83689606e-02,\n",
    "       3.47235961e-04, 1.51087137e-03, 8.78832776e-02, 2.58574100e-03,\n",
    "       2.62081125e-02, 2.23754645e-03, 2.99990316e-03, 9.86893619e-05,\n",
    "       0.00000000e+00, 3.10473255e-04, 0.00000000e+00, 4.79581469e-03,\n",
    "       4.02453338e-04, 5.32462943e-05, 0.00000000e+00, 0.00000000e+00,\n",
    "       0.00000000e+00, 3.35255922e-04, 3.63329041e-06, 0.00000000e+00,\n",
    "       0.00000000e+00, 0.00000000e+00, 0.00000000e+00, 0.00000000e+00,\n",
    "       0.00000000e+00, 0.00000000e+00, 0.00000000e+00, 0.00000000e+00,\n",
    "       0.00000000e+00, 0.00000000e+00, 3.98919427e-06, 0.00000000e+00,\n",
    "       0.00000000e+00, 1.28707029e-03, 0.00000000e+00, 1.33380871e-05,\n",
    "       0.00000000e+00, 0.00000000e+00, 0.00000000e+00, 0.00000000e+00,\n",
    "       0.00000000e+00, 5.88221752e-06, 0.00000000e+00, 0.00000000e+00,\n",
    "       0.00000000e+00, 0.00000000e+00, 0.00000000e+00, 9.01726812e-05,\n",
    "       0.00000000e+00, 2.81371404e-05, 0.00000000e+00, 5.36941222e-04,\n",
    "       0.00000000e+00, 1.56600855e-05, 0.00000000e+00, 0.00000000e+00,\n",
    "       0.00000000e+00, 0.00000000e+00, 0.00000000e+00, 0.00000000e+00,\n",
    "       0.00000000e+00, 2.93039856e-05, 4.23796545e-05, 6.66619685e-05,\n",
    "       4.99425514e-05, 0.00000000e+00, 0.00000000e+00, 1.26219248e-05,\n",
    "       4.28775202e-05, 4.86009099e-04, 0.00000000e+00, 0.00000000e+00,\n",
    "       1.06718767e-05, 0.00000000e+00, 0.00000000e+00, 0.00000000e+00,\n",
    "       0.00000000e+00, 0.00000000e+00, 0.00000000e+00, 0.00000000e+00,\n",
    "       0.00000000e+00, 0.00000000e+00, 0.00000000e+00, 0.00000000e+00,\n",
    "       0.00000000e+00, 0.00000000e+00, 0.00000000e+00, 0.00000000e+00,\n",
    "       5.67551873e-05, 0.00000000e+00, 1.05564694e-05, 1.50774423e-05,\n",
    "       0.00000000e+00, 0.00000000e+00, 0.00000000e+00, 5.20178172e-04,\n",
    "       0.00000000e+00, 0.00000000e+00, 0.00000000e+00, 0.00000000e+00,\n",
    "       3.41864194e-04, 0.00000000e+00, 0.00000000e+00, 0.00000000e+00,\n",
    "       0.00000000e+00, 0.00000000e+00, 0.00000000e+00, 0.00000000e+00,\n",
    "       0.00000000e+00, 0.00000000e+00, 0.00000000e+00, 0.00000000e+00,\n",
    "       0.00000000e+00, 0.00000000e+00, 0.00000000e+00, 0.00000000e+00,\n",
    "       0.00000000e+00, 6.05811983e-06, 3.32055522e-05, 0.00000000e+00,\n",
    "       0.00000000e+00, 7.38827261e-05, 0.00000000e+00, 0.00000000e+00,\n",
    "       0.00000000e+00, 0.00000000e+00, 0.00000000e+00, 0.00000000e+00,\n",
    "       0.00000000e+00, 0.00000000e+00, 0.00000000e+00, 3.87080135e-05,\n",
    "       1.53374188e-05, 0.00000000e+00, 0.00000000e+00, 0.00000000e+00,\n",
    "       0.00000000e+00, 0.00000000e+00, 0.00000000e+00, 1.57215406e-04,\n",
    "       3.17306707e-04, 5.39410459e-05, 8.03688312e-05, 0.00000000e+00,\n",
    "       0.00000000e+00, 0.00000000e+00, 0.00000000e+00, 0.00000000e+00,\n",
    "       0.00000000e+00, 0.00000000e+00, 0.00000000e+00, 2.11224114e-03,\n",
    "       0.00000000e+00, 0.00000000e+00, 0.00000000e+00, 0.00000000e+00,\n",
    "       0.00000000e+00, 5.33669826e-06, 0.00000000e+00, 6.04046681e-04,\n",
    "       0.00000000e+00, 0.00000000e+00, 0.00000000e+00, 0.00000000e+00,\n",
    "       0.00000000e+00, 0.00000000e+00, 0.00000000e+00, 0.00000000e+00,\n",
    "       0.00000000e+00, 0.00000000e+00, 0.00000000e+00, 2.07947081e-04,\n",
    "       0.00000000e+00, 0.00000000e+00, 0.00000000e+00, 0.00000000e+00,\n",
    "       0.00000000e+00, 0.00000000e+00, 0.00000000e+00, 9.38722475e-04,\n",
    "       2.89634289e-03, 8.04423880e-03, 2.39236610e-03]"
   ]
  },
  {
   "cell_type": "code",
   "execution_count": 43,
   "metadata": {},
   "outputs": [
    {
     "data": {
      "text/plain": [
       "50"
      ]
     },
     "execution_count": 43,
     "metadata": {},
     "output_type": "execute_result"
    }
   ],
   "source": [
    "features = []\n",
    "\n",
    "for i in rf_feats:\n",
    "    if i < 1e-4:\n",
    "        continue\n",
    "    else:\n",
    "        features.append(i)\n",
    "        \n",
    "len(features)"
   ]
  },
  {
   "cell_type": "code",
   "execution_count": 16,
   "metadata": {
    "execution": {
     "iopub.execute_input": "2023-01-09T20:50:39.723574Z",
     "iopub.status.busy": "2023-01-09T20:50:39.723078Z",
     "iopub.status.idle": "2023-01-09T20:50:39.732537Z",
     "shell.execute_reply": "2023-01-09T20:50:39.730870Z",
     "shell.execute_reply.started": "2023-01-09T20:50:39.723533Z"
    }
   },
   "outputs": [
    {
     "data": {
      "text/plain": [
       "{'max_depth': 6,\n",
       " 'max_features': 'auto',\n",
       " 'min_samples_leaf': 2,\n",
       " 'min_samples_split': 7,\n",
       " 'n_estimators': 100}"
      ]
     },
     "execution_count": 16,
     "metadata": {},
     "output_type": "execute_result"
    }
   ],
   "source": [
    "CV_RF.best_params_"
   ]
  },
  {
   "cell_type": "code",
   "execution_count": 18,
   "metadata": {
    "execution": {
     "iopub.execute_input": "2023-01-09T20:59:00.706526Z",
     "iopub.status.busy": "2023-01-09T20:59:00.706013Z",
     "iopub.status.idle": "2023-01-09T23:02:35.983683Z",
     "shell.execute_reply": "2023-01-09T23:02:35.982218Z",
     "shell.execute_reply.started": "2023-01-09T20:59:00.706488Z"
    }
   },
   "outputs": [
    {
     "data": {
      "text/plain": [
       "GridSearchCV(cv=10, estimator=RandomForestRegressor(),\n",
       "             param_grid={'max_depth': [5, 7, 10, 12],\n",
       "                         'max_features': ['auto', 'sqrt', 'log2'],\n",
       "                         'min_samples_leaf': [5, 8, 10],\n",
       "                         'min_samples_split': [6, 7, 8, 9, 10],\n",
       "                         'n_estimators': [200, 400]})"
      ]
     },
     "execution_count": 18,
     "metadata": {},
     "output_type": "execute_result"
    }
   ],
   "source": [
    "param_grid = {'min_samples_split':[6, 7, 8, 9, 10], \n",
    "              'min_samples_leaf':[5, 8, 10], \n",
    "              'n_estimators':[200, 400], \n",
    "              'max_depth':[5, 7, 10, 12],\n",
    "              'max_features': ['auto', 'log2']}\n",
    "\n",
    "CV_RF2 = GridSearchCV(estimator=RF, param_grid=param_grid, cv= 10)\n",
    "CV_RF2.fit(X_train, y_train)"
   ]
  },
  {
   "cell_type": "code",
   "execution_count": 110,
   "metadata": {
    "execution": {
     "iopub.execute_input": "2023-01-09T23:39:29.255486Z",
     "iopub.status.busy": "2023-01-09T23:39:29.255058Z",
     "iopub.status.idle": "2023-01-09T23:39:29.264800Z",
     "shell.execute_reply": "2023-01-09T23:39:29.263178Z",
     "shell.execute_reply.started": "2023-01-09T23:39:29.255453Z"
    }
   },
   "outputs": [
    {
     "data": {
      "text/plain": [
       "<bound method BaseEstimator.get_params of RandomForestRegressor(max_depth=12, min_samples_leaf=5, min_samples_split=8,\n",
       "                      n_estimators=400)>"
      ]
     },
     "execution_count": 110,
     "metadata": {},
     "output_type": "execute_result"
    }
   ],
   "source": [
    "CV_RF2.best_estimator_.get_params"
   ]
  },
  {
   "cell_type": "code",
   "execution_count": 38,
   "metadata": {
    "execution": {
     "iopub.execute_input": "2023-01-09T23:18:55.142197Z",
     "iopub.status.busy": "2023-01-09T23:18:55.140693Z",
     "iopub.status.idle": "2023-01-09T23:18:55.246331Z",
     "shell.execute_reply": "2023-01-09T23:18:55.244819Z",
     "shell.execute_reply.started": "2023-01-09T23:18:55.142127Z"
    }
   },
   "outputs": [
    {
     "data": {
      "text/plain": [
       "0.8965356786983262"
      ]
     },
     "execution_count": 38,
     "metadata": {},
     "output_type": "execute_result"
    }
   ],
   "source": [
    "CV_RF2.best_estimator_.score(X_test,y_test)"
   ]
  },
  {
   "cell_type": "code",
   "execution_count": 114,
   "metadata": {
    "execution": {
     "iopub.execute_input": "2023-01-09T23:40:13.077536Z",
     "iopub.status.busy": "2023-01-09T23:40:13.077016Z",
     "iopub.status.idle": "2023-01-09T23:40:14.240296Z",
     "shell.execute_reply": "2023-01-09T23:40:14.239048Z",
     "shell.execute_reply.started": "2023-01-09T23:40:13.077496Z"
    }
   },
   "outputs": [
    {
     "data": {
      "text/plain": [
       "RandomForestRegressor(min_samples_leaf=3, min_samples_split=10, n_jobs=-1,\n",
       "                      random_state=0)"
      ]
     },
     "execution_count": 114,
     "metadata": {},
     "output_type": "execute_result"
    }
   ],
   "source": [
    "RF3 = RandomForestRegressor( n_jobs=-1, random_state=0)"
   ]
  },
  {
   "cell_type": "code",
   "execution_count": 116,
   "metadata": {
    "execution": {
     "iopub.execute_input": "2023-01-09T23:42:02.249780Z",
     "iopub.status.busy": "2023-01-09T23:42:02.249295Z",
     "iopub.status.idle": "2023-01-10T02:03:15.282913Z",
     "shell.execute_reply": "2023-01-10T02:03:15.281369Z",
     "shell.execute_reply.started": "2023-01-09T23:42:02.249744Z"
    }
   },
   "outputs": [
    {
     "data": {
      "text/plain": [
       "GridSearchCV(cv=10,\n",
       "             estimator=RandomForestRegressor(min_samples_leaf=3,\n",
       "                                             min_samples_split=10, n_jobs=-1,\n",
       "                                             random_state=0),\n",
       "             param_grid={'max_depth': [5, 7, 10, 12, 15, None],\n",
       "                         'max_features': ['auto', 'sqrt', 'log2'],\n",
       "                         'min_samples_leaf': [5, 8, 10],\n",
       "                         'min_samples_split': [3, 5, 8, 9, 10],\n",
       "                         'n_estimators': [100, 200, 400]})"
      ]
     },
     "execution_count": 116,
     "metadata": {},
     "output_type": "execute_result"
    }
   ],
   "source": [
    "param_grid = {'min_samples_split':[3, 5, 8, 9, 10], \n",
    "              'min_samples_leaf':[5, 8, 10], \n",
    "              'n_estimators':[100, 200, 400], \n",
    "              'max_depth':[5, 7, 10, 12, 15, None],\n",
    "              'max_features': ['auto', 'sqrt', 'log2']}\n",
    "\n",
    "CV_RF3 = GridSearchCV(estimator=RF3, param_grid=param_grid, cv= 10)\n",
    "CV_RF3.fit(X_train, y_train)"
   ]
  },
  {
   "cell_type": "code",
   "execution_count": 121,
   "metadata": {
    "execution": {
     "iopub.execute_input": "2023-01-10T02:03:16.193409Z",
     "iopub.status.busy": "2023-01-10T02:03:16.193040Z",
     "iopub.status.idle": "2023-01-10T02:03:16.417758Z",
     "shell.execute_reply": "2023-01-10T02:03:16.416140Z",
     "shell.execute_reply.started": "2023-01-10T02:03:16.193368Z"
    }
   },
   "outputs": [
    {
     "name": "stdout",
     "output_type": "stream",
     "text": [
      "0.8960178757338528\n",
      "0.948404891940828\n"
     ]
    }
   ],
   "source": [
    "print(f'The R-squared on test set is {CV_RF3.best_estimator_.score(X_test,y_test)}')\n",
    "print(f'The R-squared on train set is {CV_RF3.best_estimator_.score(X_train,y_train)}')"
   ]
  },
  {
   "cell_type": "code",
   "execution_count": 122,
   "metadata": {
    "execution": {
     "iopub.execute_input": "2023-01-10T02:20:51.598198Z",
     "iopub.status.busy": "2023-01-10T02:20:51.597711Z",
     "iopub.status.idle": "2023-01-10T02:20:51.607557Z",
     "shell.execute_reply": "2023-01-10T02:20:51.606416Z",
     "shell.execute_reply.started": "2023-01-10T02:20:51.598159Z"
    }
   },
   "outputs": [
    {
     "data": {
      "text/plain": [
       "<bound method BaseEstimator.get_params of RandomForestRegressor(max_depth=15, min_samples_leaf=5, min_samples_split=5,\n",
       "                      n_estimators=200, n_jobs=-1, random_state=0)>"
      ]
     },
     "execution_count": 122,
     "metadata": {},
     "output_type": "execute_result"
    }
   ],
   "source": [
    "CV_RF3.best_estimator_.get_params"
   ]
  },
  {
   "cell_type": "code",
   "execution_count": 55,
   "metadata": {
    "execution": {
     "iopub.execute_input": "2023-01-10T03:54:54.480938Z",
     "iopub.status.busy": "2023-01-10T03:54:54.480493Z",
     "iopub.status.idle": "2023-01-10T03:54:56.700601Z",
     "shell.execute_reply": "2023-01-10T03:54:56.699642Z",
     "shell.execute_reply.started": "2023-01-10T03:54:54.480901Z"
    }
   },
   "outputs": [
    {
     "data": {
      "text/plain": [
       "RandomForestRegressor(max_depth=10, min_samples_leaf=2, min_samples_split=6,\n",
       "                      n_estimators=250, n_jobs=-1, random_state=0)"
      ]
     },
     "execution_count": 55,
     "metadata": {},
     "output_type": "execute_result"
    }
   ],
   "source": [
    "## We can get the R^2 up to .9, but there is worse overfitting.\n",
    "\n",
    "RF4 = RandomForestRegressor(n_estimators=250, max_depth=10, min_samples_leaf=2, min_samples_split=6, n_jobs=-1, criterion='squared_error', random_state=0)\n",
    "RF4.fit(X_train, y_train)"
   ]
  },
  {
   "cell_type": "code",
   "execution_count": 62,
   "metadata": {
    "execution": {
     "iopub.execute_input": "2023-01-10T04:01:28.485461Z",
     "iopub.status.busy": "2023-01-10T04:01:28.485014Z",
     "iopub.status.idle": "2023-01-10T04:01:28.709585Z",
     "shell.execute_reply": "2023-01-10T04:01:28.708560Z",
     "shell.execute_reply.started": "2023-01-10T04:01:28.485424Z"
    }
   },
   "outputs": [
    {
     "name": "stdout",
     "output_type": "stream",
     "text": [
      "The R-squared on test set is 0.9004291463966746\n",
      "The R-squared on train set is 0.9678611241005803\n"
     ]
    }
   ],
   "source": [
    "print(f'The R-squared on test set is {RF4.score(X_test,y_test)}')\n",
    "      \n",
    "print(f'The R-squared on train set is {RF4.score(X_train,y_train)}')"
   ]
  }
 ],
 "metadata": {
  "kernelspec": {
   "display_name": "Python 3 (ipykernel)",
   "language": "python",
   "name": "python3"
  },
  "language_info": {
   "codemirror_mode": {
    "name": "ipython",
    "version": 3
   },
   "file_extension": ".py",
   "mimetype": "text/x-python",
   "name": "python",
   "nbconvert_exporter": "python",
   "pygments_lexer": "ipython3",
   "version": "3.9.12"
  }
 },
 "nbformat": 4,
 "nbformat_minor": 4
}
