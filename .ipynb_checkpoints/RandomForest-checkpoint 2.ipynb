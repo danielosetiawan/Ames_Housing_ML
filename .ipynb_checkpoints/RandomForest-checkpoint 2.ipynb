{
 "cells": [
  {
   "cell_type": "code",
   "execution_count": 2,
   "metadata": {
    "_cell_guid": "b1076dfc-b9ad-4769-8c92-a6c4dae69d19",
    "_uuid": "8f2839f25d086af736a60e9eeb907d3b93b6e0e5",
    "execution": {
     "iopub.execute_input": "2023-01-10T03:59:59.725412Z",
     "iopub.status.busy": "2023-01-10T03:59:59.725038Z",
     "iopub.status.idle": "2023-01-10T03:59:59.831751Z",
     "shell.execute_reply": "2023-01-10T03:59:59.830402Z",
     "shell.execute_reply.started": "2023-01-10T03:59:59.725382Z"
    }
   },
   "outputs": [],
   "source": [
    "## We run a bunch of grid searches. At the end, the best model is not taken from them. Model params are given from the grid searches if relevant\n",
    "## It would have to be ran again to get the CV scores for each of the models (perhaps try a grid search with the best params from each of the grid searches if this\n",
    "## is to be done)\n",
    "\n",
    "import sklearn\n",
    "import numpy as np\n",
    "import pandas as pd\n",
    "from sklearn.ensemble import RandomForestRegressor\n",
    "from sklearn.model_selection import train_test_split\n",
    "\n",
    "\n",
    "## These have to be changed once out of kaggle\n",
    "# df = pd.read_csv('/kaggle/input/whynot/features_dummified_214col.csv')\n",
    "# df2 = pd.read_csv('/kaggle/input/whynot/cleaned_housing.csv')\n",
    "\n",
    "df = pd.read_csv('./data/features_dummified_214col.csv')\n",
    "df2 = pd.read_csv('./data/cleaned_housing.csv')"
   ]
  },
  {
   "cell_type": "code",
   "execution_count": 3,
   "metadata": {
    "execution": {
     "iopub.execute_input": "2023-01-10T04:00:01.642112Z",
     "iopub.status.busy": "2023-01-10T04:00:01.641704Z",
     "iopub.status.idle": "2023-01-10T04:00:01.653931Z",
     "shell.execute_reply": "2023-01-10T04:00:01.652605Z",
     "shell.execute_reply.started": "2023-01-10T04:00:01.642080Z"
    }
   },
   "outputs": [],
   "source": [
    "RF = RandomForestRegressor()\n",
    "\n",
    "target = df2['SalePrice']\n",
    "\n",
    "X_train, X_test, y_train, y_test= train_test_split(df, target, test_size=0.3, random_state = 0)\n"
   ]
  },
  {
   "cell_type": "code",
   "execution_count": 8,
   "metadata": {
    "execution": {
     "iopub.execute_input": "2023-01-09T20:21:00.708404Z",
     "iopub.status.busy": "2023-01-09T20:21:00.707978Z",
     "iopub.status.idle": "2023-01-09T20:39:11.918900Z",
     "shell.execute_reply": "2023-01-09T20:39:11.917593Z",
     "shell.execute_reply.started": "2023-01-09T20:21:00.708356Z"
    }
   },
   "outputs": [
    {
     "data": {
      "text/plain": [
       "GridSearchCV(cv=5, estimator=RandomForestRegressor(),\n",
       "             param_grid={'max_depth': [2, 4, 6],\n",
       "                         'max_features': ['auto', 'sqrt', 'log2'],\n",
       "                         'min_samples_leaf': [1, 2, 5, 8],\n",
       "                         'min_samples_split': [2, 5, 7, 10],\n",
       "                         'n_estimators': [50, 100, 200]})"
      ]
     },
     "execution_count": 8,
     "metadata": {},
     "output_type": "execute_result"
    }
   ],
   "source": [
    "from sklearn.model_selection import GridSearchCV\n",
    "param_grid = {'min_samples_split':[2, 5, 7, 10], \n",
    "              'min_samples_leaf':[1, 2, 5, 8], \n",
    "              'n_estimators':[50, 100, 200], \n",
    "              'max_depth':[2, 4, 6],\n",
    "              'max_features': ['auto', 'log2']}\n",
    "\n",
    "CV_RF = GridSearchCV(estimator=RF, param_grid=param_grid, cv= 5)\n",
    "CV_RF.fit(X_train, y_train)"
   ]
  },
  {
   "cell_type": "code",
   "execution_count": 9,
   "metadata": {
    "execution": {
     "iopub.execute_input": "2023-01-09T20:43:12.260017Z",
     "iopub.status.busy": "2023-01-09T20:43:12.259497Z",
     "iopub.status.idle": "2023-01-09T20:43:12.269600Z",
     "shell.execute_reply": "2023-01-09T20:43:12.268026Z",
     "shell.execute_reply.started": "2023-01-09T20:43:12.259979Z"
    }
   },
   "outputs": [
    {
     "data": {
      "text/plain": [
       "RandomForestRegressor(max_depth=6, min_samples_leaf=2, min_samples_split=7)"
      ]
     },
     "execution_count": 9,
     "metadata": {},
     "output_type": "execute_result"
    }
   ],
   "source": [
    "CV_RF.best_estimator_"
   ]
  },
  {
   "cell_type": "code",
   "execution_count": 10,
   "metadata": {
    "execution": {
     "iopub.execute_input": "2023-01-09T20:43:39.105314Z",
     "iopub.status.busy": "2023-01-09T20:43:39.104793Z",
     "iopub.status.idle": "2023-01-09T20:43:39.113815Z",
     "shell.execute_reply": "2023-01-09T20:43:39.112418Z",
     "shell.execute_reply.started": "2023-01-09T20:43:39.105273Z"
    }
   },
   "outputs": [
    {
     "data": {
      "text/plain": [
       "0.8627897437813207"
      ]
     },
     "execution_count": 10,
     "metadata": {},
     "output_type": "execute_result"
    }
   ],
   "source": [
    "CV_RF.best_score_"
   ]
  },
  {
   "cell_type": "code",
   "execution_count": 17,
   "metadata": {
    "execution": {
     "iopub.execute_input": "2023-01-09T20:51:51.371250Z",
     "iopub.status.busy": "2023-01-09T20:51:51.370836Z",
     "iopub.status.idle": "2023-01-09T20:51:51.412282Z",
     "shell.execute_reply": "2023-01-09T20:51:51.410721Z",
     "shell.execute_reply.started": "2023-01-09T20:51:51.371217Z"
    }
   },
   "outputs": [
    {
     "data": {
      "text/plain": [
       "0.9311257061944435"
      ]
     },
     "execution_count": 17,
     "metadata": {},
     "output_type": "execute_result"
    }
   ],
   "source": [
    "best_est = CV_RF.best_estimator_\n",
    "\n",
    "best_est.score(X_train,y_train)\n"
   ]
  },
  {
   "cell_type": "code",
   "execution_count": 16,
   "metadata": {
    "execution": {
     "iopub.execute_input": "2023-01-09T20:50:39.723574Z",
     "iopub.status.busy": "2023-01-09T20:50:39.723078Z",
     "iopub.status.idle": "2023-01-09T20:50:39.732537Z",
     "shell.execute_reply": "2023-01-09T20:50:39.730870Z",
     "shell.execute_reply.started": "2023-01-09T20:50:39.723533Z"
    }
   },
   "outputs": [
    {
     "data": {
      "text/plain": [
       "{'max_depth': 6,\n",
       " 'max_features': 'auto',\n",
       " 'min_samples_leaf': 2,\n",
       " 'min_samples_split': 7,\n",
       " 'n_estimators': 100}"
      ]
     },
     "execution_count": 16,
     "metadata": {},
     "output_type": "execute_result"
    }
   ],
   "source": [
    "CV_RF.best_params_"
   ]
  },
  {
   "cell_type": "code",
   "execution_count": 18,
   "metadata": {
    "execution": {
     "iopub.execute_input": "2023-01-09T20:59:00.706526Z",
     "iopub.status.busy": "2023-01-09T20:59:00.706013Z",
     "iopub.status.idle": "2023-01-09T23:02:35.983683Z",
     "shell.execute_reply": "2023-01-09T23:02:35.982218Z",
     "shell.execute_reply.started": "2023-01-09T20:59:00.706488Z"
    }
   },
   "outputs": [
    {
     "data": {
      "text/plain": [
       "GridSearchCV(cv=10, estimator=RandomForestRegressor(),\n",
       "             param_grid={'max_depth': [5, 7, 10, 12],\n",
       "                         'max_features': ['auto', 'sqrt', 'log2'],\n",
       "                         'min_samples_leaf': [5, 8, 10],\n",
       "                         'min_samples_split': [6, 7, 8, 9, 10],\n",
       "                         'n_estimators': [200, 400]})"
      ]
     },
     "execution_count": 18,
     "metadata": {},
     "output_type": "execute_result"
    }
   ],
   "source": [
    "param_grid = {'min_samples_split':[6, 7, 8, 9, 10], \n",
    "              'min_samples_leaf':[5, 8, 10], \n",
    "              'n_estimators':[200, 400], \n",
    "              'max_depth':[5, 7, 10, 12],\n",
    "              'max_features': ['auto', 'log2']}\n",
    "\n",
    "CV_RF2 = GridSearchCV(estimator=RF, param_grid=param_grid, cv= 10)\n",
    "CV_RF2.fit(X_train, y_train)"
   ]
  },
  {
   "cell_type": "code",
   "execution_count": 110,
   "metadata": {
    "execution": {
     "iopub.execute_input": "2023-01-09T23:39:29.255486Z",
     "iopub.status.busy": "2023-01-09T23:39:29.255058Z",
     "iopub.status.idle": "2023-01-09T23:39:29.264800Z",
     "shell.execute_reply": "2023-01-09T23:39:29.263178Z",
     "shell.execute_reply.started": "2023-01-09T23:39:29.255453Z"
    }
   },
   "outputs": [
    {
     "data": {
      "text/plain": [
       "<bound method BaseEstimator.get_params of RandomForestRegressor(max_depth=12, min_samples_leaf=5, min_samples_split=8,\n",
       "                      n_estimators=400)>"
      ]
     },
     "execution_count": 110,
     "metadata": {},
     "output_type": "execute_result"
    }
   ],
   "source": [
    "CV_RF2.best_estimator_.get_params"
   ]
  },
  {
   "cell_type": "code",
   "execution_count": 38,
   "metadata": {
    "execution": {
     "iopub.execute_input": "2023-01-09T23:18:55.142197Z",
     "iopub.status.busy": "2023-01-09T23:18:55.140693Z",
     "iopub.status.idle": "2023-01-09T23:18:55.246331Z",
     "shell.execute_reply": "2023-01-09T23:18:55.244819Z",
     "shell.execute_reply.started": "2023-01-09T23:18:55.142127Z"
    }
   },
   "outputs": [
    {
     "data": {
      "text/plain": [
       "0.8965356786983262"
      ]
     },
     "execution_count": 38,
     "metadata": {},
     "output_type": "execute_result"
    }
   ],
   "source": [
    "CV_RF2.best_estimator_.score(X_test,y_test)"
   ]
  },
  {
   "cell_type": "code",
   "execution_count": 114,
   "metadata": {
    "execution": {
     "iopub.execute_input": "2023-01-09T23:40:13.077536Z",
     "iopub.status.busy": "2023-01-09T23:40:13.077016Z",
     "iopub.status.idle": "2023-01-09T23:40:14.240296Z",
     "shell.execute_reply": "2023-01-09T23:40:14.239048Z",
     "shell.execute_reply.started": "2023-01-09T23:40:13.077496Z"
    }
   },
   "outputs": [
    {
     "data": {
      "text/plain": [
       "RandomForestRegressor(min_samples_leaf=3, min_samples_split=10, n_jobs=-1,\n",
       "                      random_state=0)"
      ]
     },
     "execution_count": 114,
     "metadata": {},
     "output_type": "execute_result"
    }
   ],
   "source": [
    "RF3 = RandomForestRegressor( n_jobs=-1, random_state=0)"
   ]
  },
  {
   "cell_type": "code",
   "execution_count": 116,
   "metadata": {
    "execution": {
     "iopub.execute_input": "2023-01-09T23:42:02.249780Z",
     "iopub.status.busy": "2023-01-09T23:42:02.249295Z",
     "iopub.status.idle": "2023-01-10T02:03:15.282913Z",
     "shell.execute_reply": "2023-01-10T02:03:15.281369Z",
     "shell.execute_reply.started": "2023-01-09T23:42:02.249744Z"
    }
   },
   "outputs": [
    {
     "data": {
      "text/plain": [
       "GridSearchCV(cv=10,\n",
       "             estimator=RandomForestRegressor(min_samples_leaf=3,\n",
       "                                             min_samples_split=10, n_jobs=-1,\n",
       "                                             random_state=0),\n",
       "             param_grid={'max_depth': [5, 7, 10, 12, 15, None],\n",
       "                         'max_features': ['auto', 'sqrt', 'log2'],\n",
       "                         'min_samples_leaf': [5, 8, 10],\n",
       "                         'min_samples_split': [3, 5, 8, 9, 10],\n",
       "                         'n_estimators': [100, 200, 400]})"
      ]
     },
     "execution_count": 116,
     "metadata": {},
     "output_type": "execute_result"
    }
   ],
   "source": [
    "param_grid = {'min_samples_split':[3, 5, 8, 9, 10], \n",
    "              'min_samples_leaf':[5, 8, 10], \n",
    "              'n_estimators':[100, 200, 400], \n",
    "              'max_depth':[5, 7, 10, 12, 15, None],\n",
    "              'max_features': ['auto', 'sqrt', 'log2']}\n",
    "\n",
    "CV_RF3 = GridSearchCV(estimator=RF3, param_grid=param_grid, cv= 10)\n",
    "CV_RF3.fit(X_train, y_train)"
   ]
  },
  {
   "cell_type": "code",
   "execution_count": 121,
   "metadata": {
    "execution": {
     "iopub.execute_input": "2023-01-10T02:03:16.193409Z",
     "iopub.status.busy": "2023-01-10T02:03:16.193040Z",
     "iopub.status.idle": "2023-01-10T02:03:16.417758Z",
     "shell.execute_reply": "2023-01-10T02:03:16.416140Z",
     "shell.execute_reply.started": "2023-01-10T02:03:16.193368Z"
    }
   },
   "outputs": [
    {
     "name": "stdout",
     "output_type": "stream",
     "text": [
      "0.8960178757338528\n",
      "0.948404891940828\n"
     ]
    }
   ],
   "source": [
    "print(f'The R-squared on test set is {CV_RF3.best_estimator_.score(X_test,y_test)}')\n",
    "print(f'The R-squared on train set is {CV_RF3.best_estimator_.score(X_train,y_train)}')"
   ]
  },
  {
   "cell_type": "code",
   "execution_count": 122,
   "metadata": {
    "execution": {
     "iopub.execute_input": "2023-01-10T02:20:51.598198Z",
     "iopub.status.busy": "2023-01-10T02:20:51.597711Z",
     "iopub.status.idle": "2023-01-10T02:20:51.607557Z",
     "shell.execute_reply": "2023-01-10T02:20:51.606416Z",
     "shell.execute_reply.started": "2023-01-10T02:20:51.598159Z"
    }
   },
   "outputs": [
    {
     "data": {
      "text/plain": [
       "<bound method BaseEstimator.get_params of RandomForestRegressor(max_depth=15, min_samples_leaf=5, min_samples_split=5,\n",
       "                      n_estimators=200, n_jobs=-1, random_state=0)>"
      ]
     },
     "execution_count": 122,
     "metadata": {},
     "output_type": "execute_result"
    }
   ],
   "source": [
    "CV_RF3.best_estimator_.get_params"
   ]
  },
  {
   "cell_type": "code",
   "execution_count": 55,
   "metadata": {
    "execution": {
     "iopub.execute_input": "2023-01-10T03:54:54.480938Z",
     "iopub.status.busy": "2023-01-10T03:54:54.480493Z",
     "iopub.status.idle": "2023-01-10T03:54:56.700601Z",
     "shell.execute_reply": "2023-01-10T03:54:56.699642Z",
     "shell.execute_reply.started": "2023-01-10T03:54:54.480901Z"
    }
   },
   "outputs": [
    {
     "data": {
      "text/plain": [
       "RandomForestRegressor(max_depth=10, min_samples_leaf=2, min_samples_split=6,\n",
       "                      n_estimators=250, n_jobs=-1, random_state=0)"
      ]
     },
     "execution_count": 55,
     "metadata": {},
     "output_type": "execute_result"
    }
   ],
   "source": [
    "## We can get the R^2 up to .9, but there is worse overfitting.\n",
    "\n",
    "RF4 = RandomForestRegressor(n_estimators=250, max_depth=10, min_samples_leaf=2, min_samples_split=6, n_jobs=-1, criterion='squared_error', random_state=0)\n",
    "RF4.fit(X_train, y_train)"
   ]
  },
  {
   "cell_type": "code",
   "execution_count": 62,
   "metadata": {
    "execution": {
     "iopub.execute_input": "2023-01-10T04:01:28.485461Z",
     "iopub.status.busy": "2023-01-10T04:01:28.485014Z",
     "iopub.status.idle": "2023-01-10T04:01:28.709585Z",
     "shell.execute_reply": "2023-01-10T04:01:28.708560Z",
     "shell.execute_reply.started": "2023-01-10T04:01:28.485424Z"
    }
   },
   "outputs": [
    {
     "name": "stdout",
     "output_type": "stream",
     "text": [
      "The R-squared on test set is 0.9004291463966746\n",
      "The R-squared on train set is 0.9678611241005803\n"
     ]
    }
   ],
   "source": [
    "print(f'The R-squared on test set is {RF4.score(X_test,y_test)}')\n",
    "      \n",
    "print(f'The R-squared on train set is {RF4.score(X_train,y_train)}')"
   ]
  }
 ],
 "metadata": {
  "kernelspec": {
   "display_name": "Python 3 (ipykernel)",
   "language": "python",
   "name": "python3"
  },
  "language_info": {
   "codemirror_mode": {
    "name": "ipython",
    "version": 3
   },
   "file_extension": ".py",
   "mimetype": "text/x-python",
   "name": "python",
   "nbconvert_exporter": "python",
   "pygments_lexer": "ipython3",
   "version": "3.9.12"
  }
 },
 "nbformat": 4,
 "nbformat_minor": 4
}
